{
 "cells": [
  {
   "cell_type": "code",
   "execution_count": 140,
   "id": "e3e8cb08",
   "metadata": {},
   "outputs": [],
   "source": [
    "import pandas as pd\n",
    "import numpy as np"
   ]
  },
  {
   "cell_type": "code",
   "execution_count": 141,
   "id": "31608c0d",
   "metadata": {},
   "outputs": [],
   "source": [
    "df_vente = pd.read_excel('data/Base_OLAP.xlsx', sheet_name='Vente Détail')\n",
    "\n",
    "df_produit = pd.read_excel('data/Base_OLAP.xlsx', sheet_name='Produits')\n",
    "\n",
    "df_clients = pd.read_excel('data/Base_OLAP.xlsx', sheet_name='Clients')\n",
    "\n",
    "df_calendrier = pd.read_excel('data/Base_OLAP.xlsx', sheet_name='Calendrier')\n",
    "\n",
    "df_employe = pd.read_excel('data/Base_OLAP.xlsx', sheet_name='Employé')"
   ]
  },
  {
   "cell_type": "code",
   "execution_count": 142,
   "id": "e1d7bc27",
   "metadata": {},
   "outputs": [
    {
     "data": {
      "application/vnd.microsoft.datawrangler.viewer.v0+json": {
       "columns": [
        {
         "name": "index",
         "rawType": "int64",
         "type": "integer"
        },
        {
         "name": "ID_BDD",
         "rawType": "object",
         "type": "string"
        },
        {
         "name": "CUSTOMER_ID",
         "rawType": "object",
         "type": "string"
        },
        {
         "name": "id_employe",
         "rawType": "object",
         "type": "string"
        },
        {
         "name": "EAN",
         "rawType": "int64",
         "type": "integer"
        },
        {
         "name": "Date achat",
         "rawType": "int64",
         "type": "integer"
        },
        {
         "name": "ID ticket",
         "rawType": "object",
         "type": "string"
        }
       ],
       "ref": "e67cbb01-eae9-4188-a7e5-4568d99030aa",
       "rows": [
        [
         "0",
         "HZDG8U15NNY7SI6HDK8NMFDEK7MOVUX31VY",
         "CUST-G42Z6WE8QLWJ",
         "b413ca065a762e8cf2e86cfea8b9c174",
         "6473630445822",
         "45518",
         "t_2693"
        ],
        [
         "1",
         "1H51BRR800TK9DCIH8M9QCRH3LEAR0JWALJ",
         "CUST-CUA37GP8GABQ",
         "a7ada0770091e838e3dcd45265282820",
         "1857802002765",
         "45518",
         "t_4408"
        ],
        [
         "2",
         "W6VNWK6ZX0D4QZ545ZD5Y0THWQQDBTXABXO",
         "CUST-NHWI0DGNESYI",
         "fa836e3f5faf72d24e079235332169ce",
         "6831886714876",
         "45518",
         "t_3258"
        ],
        [
         "3",
         "58EC3JD1TDZZAVQZAW4AHFOUEKTR61ZLB70",
         "CUST-IYXDMN7Q11O4",
         "6c1c3292c852c6c593b95cc146b00c0e",
         "6916826750723",
         "45518",
         "t_1080"
        ],
        [
         "4",
         "96FE6HA91BRDDF6XRI3O9B83M5PKIXCIXZV",
         "CUST-VR9O54A46EVF",
         "38680e129f45c49322cb12303b7fb655",
         "7930902861368",
         "45518",
         "t_979"
        ]
       ],
       "shape": {
        "columns": 6,
        "rows": 5
       }
      },
      "text/html": [
       "<div>\n",
       "<style scoped>\n",
       "    .dataframe tbody tr th:only-of-type {\n",
       "        vertical-align: middle;\n",
       "    }\n",
       "\n",
       "    .dataframe tbody tr th {\n",
       "        vertical-align: top;\n",
       "    }\n",
       "\n",
       "    .dataframe thead th {\n",
       "        text-align: right;\n",
       "    }\n",
       "</style>\n",
       "<table border=\"1\" class=\"dataframe\">\n",
       "  <thead>\n",
       "    <tr style=\"text-align: right;\">\n",
       "      <th></th>\n",
       "      <th>ID_BDD</th>\n",
       "      <th>CUSTOMER_ID</th>\n",
       "      <th>id_employe</th>\n",
       "      <th>EAN</th>\n",
       "      <th>Date achat</th>\n",
       "      <th>ID ticket</th>\n",
       "    </tr>\n",
       "  </thead>\n",
       "  <tbody>\n",
       "    <tr>\n",
       "      <th>0</th>\n",
       "      <td>HZDG8U15NNY7SI6HDK8NMFDEK7MOVUX31VY</td>\n",
       "      <td>CUST-G42Z6WE8QLWJ</td>\n",
       "      <td>b413ca065a762e8cf2e86cfea8b9c174</td>\n",
       "      <td>6473630445822</td>\n",
       "      <td>45518</td>\n",
       "      <td>t_2693</td>\n",
       "    </tr>\n",
       "    <tr>\n",
       "      <th>1</th>\n",
       "      <td>1H51BRR800TK9DCIH8M9QCRH3LEAR0JWALJ</td>\n",
       "      <td>CUST-CUA37GP8GABQ</td>\n",
       "      <td>a7ada0770091e838e3dcd45265282820</td>\n",
       "      <td>1857802002765</td>\n",
       "      <td>45518</td>\n",
       "      <td>t_4408</td>\n",
       "    </tr>\n",
       "    <tr>\n",
       "      <th>2</th>\n",
       "      <td>W6VNWK6ZX0D4QZ545ZD5Y0THWQQDBTXABXO</td>\n",
       "      <td>CUST-NHWI0DGNESYI</td>\n",
       "      <td>fa836e3f5faf72d24e079235332169ce</td>\n",
       "      <td>6831886714876</td>\n",
       "      <td>45518</td>\n",
       "      <td>t_3258</td>\n",
       "    </tr>\n",
       "    <tr>\n",
       "      <th>3</th>\n",
       "      <td>58EC3JD1TDZZAVQZAW4AHFOUEKTR61ZLB70</td>\n",
       "      <td>CUST-IYXDMN7Q11O4</td>\n",
       "      <td>6c1c3292c852c6c593b95cc146b00c0e</td>\n",
       "      <td>6916826750723</td>\n",
       "      <td>45518</td>\n",
       "      <td>t_1080</td>\n",
       "    </tr>\n",
       "    <tr>\n",
       "      <th>4</th>\n",
       "      <td>96FE6HA91BRDDF6XRI3O9B83M5PKIXCIXZV</td>\n",
       "      <td>CUST-VR9O54A46EVF</td>\n",
       "      <td>38680e129f45c49322cb12303b7fb655</td>\n",
       "      <td>7930902861368</td>\n",
       "      <td>45518</td>\n",
       "      <td>t_979</td>\n",
       "    </tr>\n",
       "  </tbody>\n",
       "</table>\n",
       "</div>"
      ],
      "text/plain": [
       "                                ID_BDD        CUSTOMER_ID  \\\n",
       "0  HZDG8U15NNY7SI6HDK8NMFDEK7MOVUX31VY  CUST-G42Z6WE8QLWJ   \n",
       "1  1H51BRR800TK9DCIH8M9QCRH3LEAR0JWALJ  CUST-CUA37GP8GABQ   \n",
       "2  W6VNWK6ZX0D4QZ545ZD5Y0THWQQDBTXABXO  CUST-NHWI0DGNESYI   \n",
       "3  58EC3JD1TDZZAVQZAW4AHFOUEKTR61ZLB70  CUST-IYXDMN7Q11O4   \n",
       "4  96FE6HA91BRDDF6XRI3O9B83M5PKIXCIXZV  CUST-VR9O54A46EVF   \n",
       "\n",
       "                         id_employe            EAN  Date achat ID ticket  \n",
       "0  b413ca065a762e8cf2e86cfea8b9c174  6473630445822       45518    t_2693  \n",
       "1  a7ada0770091e838e3dcd45265282820  1857802002765       45518    t_4408  \n",
       "2  fa836e3f5faf72d24e079235332169ce  6831886714876       45518    t_3258  \n",
       "3  6c1c3292c852c6c593b95cc146b00c0e  6916826750723       45518    t_1080  \n",
       "4  38680e129f45c49322cb12303b7fb655  7930902861368       45518     t_979  "
      ]
     },
     "execution_count": 142,
     "metadata": {},
     "output_type": "execute_result"
    }
   ],
   "source": [
    "df_vente.head()"
   ]
  },
  {
   "cell_type": "code",
   "execution_count": 143,
   "id": "50a5e128",
   "metadata": {},
   "outputs": [
    {
     "name": "stdout",
     "output_type": "stream",
     "text": [
      "<class 'pandas.core.frame.DataFrame'>\n",
      "RangeIndex: 41377 entries, 0 to 41376\n",
      "Data columns (total 6 columns):\n",
      " #   Column       Non-Null Count  Dtype \n",
      "---  ------       --------------  ----- \n",
      " 0   ID_BDD       41377 non-null  object\n",
      " 1   CUSTOMER_ID  41377 non-null  object\n",
      " 2   id_employe   41377 non-null  object\n",
      " 3   EAN          41377 non-null  int64 \n",
      " 4   Date achat   41377 non-null  int64 \n",
      " 5   ID ticket    41377 non-null  object\n",
      "dtypes: int64(2), object(4)\n",
      "memory usage: 1.9+ MB\n"
     ]
    }
   ],
   "source": [
    "df_vente.info()"
   ]
  },
  {
   "cell_type": "code",
   "execution_count": 144,
   "id": "1656807e",
   "metadata": {},
   "outputs": [],
   "source": [
    "def str_egal(df,col):\n",
    "    if df[col].astype('str').str.len().nunique() == 1:\n",
    "        print(col, ' : toutes les lignes ont le même nombres de caractères. Nombres de caractères', df[col].astype('str').str.len().unique())\n",
    "\n",
    "    else :\n",
    "        print(col, ': les lignes ont des longueurs différentes')"
   ]
  },
  {
   "cell_type": "code",
   "execution_count": 145,
   "id": "929d738a",
   "metadata": {},
   "outputs": [
    {
     "name": "stdout",
     "output_type": "stream",
     "text": [
      "ID_BDD  : toutes les lignes ont le même nombres de caractères. Nombres de caractères [35]\n",
      "CUSTOMER_ID  : toutes les lignes ont le même nombres de caractères. Nombres de caractères [17]\n",
      "id_employe  : toutes les lignes ont le même nombres de caractères. Nombres de caractères [32]\n",
      "EAN : les lignes ont des longueurs différentes\n",
      "Date achat  : toutes les lignes ont le même nombres de caractères. Nombres de caractères [5]\n",
      "ID ticket : les lignes ont des longueurs différentes\n"
     ]
    }
   ],
   "source": [
    "for col in df_vente.columns:\n",
    "    str_egal(df_vente,col)"
   ]
  },
  {
   "cell_type": "code",
   "execution_count": 146,
   "id": "643796c3",
   "metadata": {},
   "outputs": [
    {
     "name": "stdout",
     "output_type": "stream",
     "text": [
      "ID_BDD : nombre de doublons 0\n",
      "CUSTOMER_ID : nombre de doublons 39080\n",
      "id_employe : nombre de doublons 41321\n",
      "EAN : nombre de doublons 25231\n",
      "Date achat : nombre de doublons 41376\n",
      "ID ticket : nombre de doublons 39569\n"
     ]
    }
   ],
   "source": [
    "for col in df_vente.columns:\n",
    "    print(col, ': nombre de doublons', df_vente[col].duplicated().sum())"
   ]
  },
  {
   "cell_type": "code",
   "execution_count": 147,
   "id": "55f3e96e",
   "metadata": {},
   "outputs": [
    {
     "data": {
      "application/vnd.microsoft.datawrangler.viewer.v0+json": {
       "columns": [
        {
         "name": "index",
         "rawType": "int64",
         "type": "integer"
        },
        {
         "name": "EAN",
         "rawType": "int64",
         "type": "integer"
        },
        {
         "name": "categorie",
         "rawType": "object",
         "type": "string"
        },
        {
         "name": "Rayon",
         "rawType": "object",
         "type": "string"
        },
        {
         "name": "Libelle_produit",
         "rawType": "object",
         "type": "string"
        },
        {
         "name": "prix",
         "rawType": "float64",
         "type": "float"
        }
       ],
       "ref": "5303774e-0c76-4cad-b6b7-20c6440f7c6f",
       "rows": [
        [
         "0",
         "5026767366043",
         "Produits Secs & Conserves",
         "pates",
         "500g penne rigate panzani",
         "1.24"
        ],
        [
         "1",
         "1002603715237",
         "Produits Secs & Conserves",
         "pates",
         "500g spaghetti panzani",
         "0.84"
        ],
        [
         "2",
         "2113941413715",
         "Produits Secs & Conserves",
         "pates",
         "1kg coquillettes panzani",
         "1.73"
        ],
        [
         "3",
         "2597945667827",
         "Produits Secs & Conserves",
         "pates",
         "1kg spaghetti panzani",
         "1.53"
        ],
        [
         "4",
         "8046456922921",
         "Produits Secs & Conserves",
         "pates",
         "panzani farfalle 500g",
         "1.22"
        ]
       ],
       "shape": {
        "columns": 5,
        "rows": 5
       }
      },
      "text/html": [
       "<div>\n",
       "<style scoped>\n",
       "    .dataframe tbody tr th:only-of-type {\n",
       "        vertical-align: middle;\n",
       "    }\n",
       "\n",
       "    .dataframe tbody tr th {\n",
       "        vertical-align: top;\n",
       "    }\n",
       "\n",
       "    .dataframe thead th {\n",
       "        text-align: right;\n",
       "    }\n",
       "</style>\n",
       "<table border=\"1\" class=\"dataframe\">\n",
       "  <thead>\n",
       "    <tr style=\"text-align: right;\">\n",
       "      <th></th>\n",
       "      <th>EAN</th>\n",
       "      <th>categorie</th>\n",
       "      <th>Rayon</th>\n",
       "      <th>Libelle_produit</th>\n",
       "      <th>prix</th>\n",
       "    </tr>\n",
       "  </thead>\n",
       "  <tbody>\n",
       "    <tr>\n",
       "      <th>0</th>\n",
       "      <td>5026767366043</td>\n",
       "      <td>Produits Secs &amp; Conserves</td>\n",
       "      <td>pates</td>\n",
       "      <td>500g penne rigate panzani</td>\n",
       "      <td>1.24</td>\n",
       "    </tr>\n",
       "    <tr>\n",
       "      <th>1</th>\n",
       "      <td>1002603715237</td>\n",
       "      <td>Produits Secs &amp; Conserves</td>\n",
       "      <td>pates</td>\n",
       "      <td>500g spaghetti panzani</td>\n",
       "      <td>0.84</td>\n",
       "    </tr>\n",
       "    <tr>\n",
       "      <th>2</th>\n",
       "      <td>2113941413715</td>\n",
       "      <td>Produits Secs &amp; Conserves</td>\n",
       "      <td>pates</td>\n",
       "      <td>1kg coquillettes panzani</td>\n",
       "      <td>1.73</td>\n",
       "    </tr>\n",
       "    <tr>\n",
       "      <th>3</th>\n",
       "      <td>2597945667827</td>\n",
       "      <td>Produits Secs &amp; Conserves</td>\n",
       "      <td>pates</td>\n",
       "      <td>1kg spaghetti panzani</td>\n",
       "      <td>1.53</td>\n",
       "    </tr>\n",
       "    <tr>\n",
       "      <th>4</th>\n",
       "      <td>8046456922921</td>\n",
       "      <td>Produits Secs &amp; Conserves</td>\n",
       "      <td>pates</td>\n",
       "      <td>panzani farfalle 500g</td>\n",
       "      <td>1.22</td>\n",
       "    </tr>\n",
       "  </tbody>\n",
       "</table>\n",
       "</div>"
      ],
      "text/plain": [
       "             EAN                  categorie  Rayon            Libelle_produit  \\\n",
       "0  5026767366043  Produits Secs & Conserves  pates  500g penne rigate panzani   \n",
       "1  1002603715237  Produits Secs & Conserves  pates     500g spaghetti panzani   \n",
       "2  2113941413715  Produits Secs & Conserves  pates   1kg coquillettes panzani   \n",
       "3  2597945667827  Produits Secs & Conserves  pates      1kg spaghetti panzani   \n",
       "4  8046456922921  Produits Secs & Conserves  pates      panzani farfalle 500g   \n",
       "\n",
       "   prix  \n",
       "0  1.24  \n",
       "1  0.84  \n",
       "2  1.73  \n",
       "3  1.53  \n",
       "4  1.22  "
      ]
     },
     "execution_count": 147,
     "metadata": {},
     "output_type": "execute_result"
    }
   ],
   "source": [
    "df_produit.head()"
   ]
  },
  {
   "cell_type": "code",
   "execution_count": 148,
   "id": "8130175d",
   "metadata": {},
   "outputs": [
    {
     "name": "stdout",
     "output_type": "stream",
     "text": [
      "<class 'pandas.core.frame.DataFrame'>\n",
      "RangeIndex: 18040 entries, 0 to 18039\n",
      "Data columns (total 5 columns):\n",
      " #   Column           Non-Null Count  Dtype  \n",
      "---  ------           --------------  -----  \n",
      " 0   EAN              18040 non-null  int64  \n",
      " 1   categorie        18040 non-null  object \n",
      " 2   Rayon            18040 non-null  object \n",
      " 3   Libelle_produit  18040 non-null  object \n",
      " 4   prix             18040 non-null  float64\n",
      "dtypes: float64(1), int64(1), object(3)\n",
      "memory usage: 704.8+ KB\n"
     ]
    }
   ],
   "source": [
    "df_produit.info()"
   ]
  },
  {
   "cell_type": "code",
   "execution_count": 149,
   "id": "f9e1d415",
   "metadata": {},
   "outputs": [
    {
     "name": "stdout",
     "output_type": "stream",
     "text": [
      "EAN : les lignes ont des longueurs différentes\n",
      "categorie : les lignes ont des longueurs différentes\n",
      "Rayon : les lignes ont des longueurs différentes\n",
      "Libelle_produit : les lignes ont des longueurs différentes\n",
      "prix : les lignes ont des longueurs différentes\n"
     ]
    }
   ],
   "source": [
    "for col in df_produit.columns:\n",
    "    str_egal(df_produit,col)"
   ]
  },
  {
   "cell_type": "code",
   "execution_count": 150,
   "id": "6b544a92",
   "metadata": {},
   "outputs": [
    {
     "data": {
      "application/vnd.microsoft.datawrangler.viewer.v0+json": {
       "columns": [
        {
         "name": "index",
         "rawType": "int64",
         "type": "integer"
        },
        {
         "name": "CUSTUMER_ID",
         "rawType": "object",
         "type": "string"
        },
        {
         "name": "date_inscription",
         "rawType": "datetime64[ns]",
         "type": "datetime"
        }
       ],
       "ref": "3d00e412-3048-490c-89b3-b3f7e4fef785",
       "rows": [
        [
         "0",
         "CUST-2KYXXXW1NK7I",
         "2023-07-17 00:00:00"
        ],
        [
         "1",
         "CUST-NR43XRT2PXYG",
         "2023-09-07 00:00:00"
        ],
        [
         "2",
         "CUST-CH58P8PSVIYU",
         "2021-08-24 00:00:00"
        ],
        [
         "3",
         "CUST-CI7JQHW4TIYT",
         "2021-12-22 00:00:00"
        ],
        [
         "4",
         "CUST-3QHP3KL4NPP2",
         "2020-12-20 00:00:00"
        ]
       ],
       "shape": {
        "columns": 2,
        "rows": 5
       }
      },
      "text/html": [
       "<div>\n",
       "<style scoped>\n",
       "    .dataframe tbody tr th:only-of-type {\n",
       "        vertical-align: middle;\n",
       "    }\n",
       "\n",
       "    .dataframe tbody tr th {\n",
       "        vertical-align: top;\n",
       "    }\n",
       "\n",
       "    .dataframe thead th {\n",
       "        text-align: right;\n",
       "    }\n",
       "</style>\n",
       "<table border=\"1\" class=\"dataframe\">\n",
       "  <thead>\n",
       "    <tr style=\"text-align: right;\">\n",
       "      <th></th>\n",
       "      <th>CUSTUMER_ID</th>\n",
       "      <th>date_inscription</th>\n",
       "    </tr>\n",
       "  </thead>\n",
       "  <tbody>\n",
       "    <tr>\n",
       "      <th>0</th>\n",
       "      <td>CUST-2KYXXXW1NK7I</td>\n",
       "      <td>2023-07-17</td>\n",
       "    </tr>\n",
       "    <tr>\n",
       "      <th>1</th>\n",
       "      <td>CUST-NR43XRT2PXYG</td>\n",
       "      <td>2023-09-07</td>\n",
       "    </tr>\n",
       "    <tr>\n",
       "      <th>2</th>\n",
       "      <td>CUST-CH58P8PSVIYU</td>\n",
       "      <td>2021-08-24</td>\n",
       "    </tr>\n",
       "    <tr>\n",
       "      <th>3</th>\n",
       "      <td>CUST-CI7JQHW4TIYT</td>\n",
       "      <td>2021-12-22</td>\n",
       "    </tr>\n",
       "    <tr>\n",
       "      <th>4</th>\n",
       "      <td>CUST-3QHP3KL4NPP2</td>\n",
       "      <td>2020-12-20</td>\n",
       "    </tr>\n",
       "  </tbody>\n",
       "</table>\n",
       "</div>"
      ],
      "text/plain": [
       "         CUSTUMER_ID date_inscription\n",
       "0  CUST-2KYXXXW1NK7I       2023-07-17\n",
       "1  CUST-NR43XRT2PXYG       2023-09-07\n",
       "2  CUST-CH58P8PSVIYU       2021-08-24\n",
       "3  CUST-CI7JQHW4TIYT       2021-12-22\n",
       "4  CUST-3QHP3KL4NPP2       2020-12-20"
      ]
     },
     "execution_count": 150,
     "metadata": {},
     "output_type": "execute_result"
    }
   ],
   "source": [
    "df_clients.head()"
   ]
  },
  {
   "cell_type": "code",
   "execution_count": 151,
   "id": "dfd42f6e",
   "metadata": {},
   "outputs": [
    {
     "name": "stdout",
     "output_type": "stream",
     "text": [
      "CUSTUMER_ID  : toutes les lignes ont le même nombres de caractères. Nombres de caractères [17]\n",
      "date_inscription  : toutes les lignes ont le même nombres de caractères. Nombres de caractères [10]\n"
     ]
    }
   ],
   "source": [
    "for col in df_clients.columns:\n",
    "    str_egal(df_clients,col)"
   ]
  },
  {
   "cell_type": "code",
   "execution_count": 152,
   "id": "492ecfaf",
   "metadata": {},
   "outputs": [
    {
     "data": {
      "application/vnd.microsoft.datawrangler.viewer.v0+json": {
       "columns": [
        {
         "name": "index",
         "rawType": "int64",
         "type": "integer"
        },
        {
         "name": "date",
         "rawType": "int64",
         "type": "integer"
        },
        {
         "name": "annee",
         "rawType": "int64",
         "type": "integer"
        },
        {
         "name": "mois",
         "rawType": "int64",
         "type": "integer"
        },
        {
         "name": "Jour",
         "rawType": "datetime64[ns]",
         "type": "datetime"
        },
        {
         "name": "mois_nom",
         "rawType": "object",
         "type": "string"
        },
        {
         "name": "annee_mois",
         "rawType": "int64",
         "type": "integer"
        },
        {
         "name": "jour_semaine",
         "rawType": "int64",
         "type": "integer"
        },
        {
         "name": "trimestre",
         "rawType": "object",
         "type": "string"
        }
       ],
       "ref": "ee89b3f9-1eb3-4cc6-ade4-9d540779b71c",
       "rows": [
        [
         "0",
         "43831",
         "2020",
         "1",
         "1900-01-01 00:00:00",
         "janvier",
         "43831",
         "4",
         "Q1"
        ],
        [
         "1",
         "43832",
         "2020",
         "1",
         "1900-01-02 00:00:00",
         "janvier",
         "43831",
         "5",
         "Q1"
        ],
        [
         "2",
         "43833",
         "2020",
         "1",
         "1900-01-03 00:00:00",
         "janvier",
         "43831",
         "6",
         "Q1"
        ],
        [
         "3",
         "43834",
         "2020",
         "1",
         "1900-01-04 00:00:00",
         "janvier",
         "43831",
         "7",
         "Q1"
        ],
        [
         "4",
         "43835",
         "2020",
         "1",
         "1900-01-05 00:00:00",
         "janvier",
         "43831",
         "1",
         "Q1"
        ]
       ],
       "shape": {
        "columns": 8,
        "rows": 5
       }
      },
      "text/html": [
       "<div>\n",
       "<style scoped>\n",
       "    .dataframe tbody tr th:only-of-type {\n",
       "        vertical-align: middle;\n",
       "    }\n",
       "\n",
       "    .dataframe tbody tr th {\n",
       "        vertical-align: top;\n",
       "    }\n",
       "\n",
       "    .dataframe thead th {\n",
       "        text-align: right;\n",
       "    }\n",
       "</style>\n",
       "<table border=\"1\" class=\"dataframe\">\n",
       "  <thead>\n",
       "    <tr style=\"text-align: right;\">\n",
       "      <th></th>\n",
       "      <th>date</th>\n",
       "      <th>annee</th>\n",
       "      <th>mois</th>\n",
       "      <th>Jour</th>\n",
       "      <th>mois_nom</th>\n",
       "      <th>annee_mois</th>\n",
       "      <th>jour_semaine</th>\n",
       "      <th>trimestre</th>\n",
       "    </tr>\n",
       "  </thead>\n",
       "  <tbody>\n",
       "    <tr>\n",
       "      <th>0</th>\n",
       "      <td>43831</td>\n",
       "      <td>2020</td>\n",
       "      <td>1</td>\n",
       "      <td>1900-01-01</td>\n",
       "      <td>janvier</td>\n",
       "      <td>43831</td>\n",
       "      <td>4</td>\n",
       "      <td>Q1</td>\n",
       "    </tr>\n",
       "    <tr>\n",
       "      <th>1</th>\n",
       "      <td>43832</td>\n",
       "      <td>2020</td>\n",
       "      <td>1</td>\n",
       "      <td>1900-01-02</td>\n",
       "      <td>janvier</td>\n",
       "      <td>43831</td>\n",
       "      <td>5</td>\n",
       "      <td>Q1</td>\n",
       "    </tr>\n",
       "    <tr>\n",
       "      <th>2</th>\n",
       "      <td>43833</td>\n",
       "      <td>2020</td>\n",
       "      <td>1</td>\n",
       "      <td>1900-01-03</td>\n",
       "      <td>janvier</td>\n",
       "      <td>43831</td>\n",
       "      <td>6</td>\n",
       "      <td>Q1</td>\n",
       "    </tr>\n",
       "    <tr>\n",
       "      <th>3</th>\n",
       "      <td>43834</td>\n",
       "      <td>2020</td>\n",
       "      <td>1</td>\n",
       "      <td>1900-01-04</td>\n",
       "      <td>janvier</td>\n",
       "      <td>43831</td>\n",
       "      <td>7</td>\n",
       "      <td>Q1</td>\n",
       "    </tr>\n",
       "    <tr>\n",
       "      <th>4</th>\n",
       "      <td>43835</td>\n",
       "      <td>2020</td>\n",
       "      <td>1</td>\n",
       "      <td>1900-01-05</td>\n",
       "      <td>janvier</td>\n",
       "      <td>43831</td>\n",
       "      <td>1</td>\n",
       "      <td>Q1</td>\n",
       "    </tr>\n",
       "  </tbody>\n",
       "</table>\n",
       "</div>"
      ],
      "text/plain": [
       "    date  annee  mois       Jour mois_nom  annee_mois  jour_semaine trimestre\n",
       "0  43831   2020     1 1900-01-01  janvier       43831             4        Q1\n",
       "1  43832   2020     1 1900-01-02  janvier       43831             5        Q1\n",
       "2  43833   2020     1 1900-01-03  janvier       43831             6        Q1\n",
       "3  43834   2020     1 1900-01-04  janvier       43831             7        Q1\n",
       "4  43835   2020     1 1900-01-05  janvier       43831             1        Q1"
      ]
     },
     "execution_count": 152,
     "metadata": {},
     "output_type": "execute_result"
    }
   ],
   "source": [
    "df_calendrier.head()"
   ]
  },
  {
   "cell_type": "code",
   "execution_count": 153,
   "id": "badc6d05",
   "metadata": {},
   "outputs": [
    {
     "name": "stdout",
     "output_type": "stream",
     "text": [
      "date  : toutes les lignes ont le même nombres de caractères. Nombres de caractères [5]\n",
      "annee  : toutes les lignes ont le même nombres de caractères. Nombres de caractères [4]\n",
      "mois : les lignes ont des longueurs différentes\n",
      "Jour  : toutes les lignes ont le même nombres de caractères. Nombres de caractères [10]\n",
      "mois_nom : les lignes ont des longueurs différentes\n",
      "annee_mois  : toutes les lignes ont le même nombres de caractères. Nombres de caractères [5]\n",
      "jour_semaine  : toutes les lignes ont le même nombres de caractères. Nombres de caractères [1]\n",
      "trimestre  : toutes les lignes ont le même nombres de caractères. Nombres de caractères [2]\n"
     ]
    }
   ],
   "source": [
    "for col in df_calendrier.columns:\n",
    "    str_egal(df_calendrier,col)"
   ]
  },
  {
   "cell_type": "code",
   "execution_count": 154,
   "id": "98918298",
   "metadata": {},
   "outputs": [
    {
     "data": {
      "application/vnd.microsoft.datawrangler.viewer.v0+json": {
       "columns": [
        {
         "name": "index",
         "rawType": "int64",
         "type": "integer"
        },
        {
         "name": "id_employe",
         "rawType": "object",
         "type": "string"
        },
        {
         "name": "employe",
         "rawType": "object",
         "type": "string"
        },
        {
         "name": "prenom",
         "rawType": "object",
         "type": "string"
        },
        {
         "name": "nom",
         "rawType": "object",
         "type": "string"
        },
        {
         "name": "date_debut",
         "rawType": "int64",
         "type": "integer"
        },
        {
         "name": "hash_mdp",
         "rawType": "object",
         "type": "string"
        },
        {
         "name": "mail",
         "rawType": "object",
         "type": "string"
        }
       ],
       "ref": "76099b8f-a3c1-4bd6-8991-675dac19da7c",
       "rows": [
        [
         "0",
         "6fa61d0ecae0b563fef18d36b2039c8e",
         "lmaret",
         "Laure",
         "Maret",
         "43961",
         "0373c45921fbaa7530f34b39e71ba93c",
         "lmaret@supersmartmarket.fr"
        ],
        [
         "1",
         "37c6a856b2e14217855d808fbc8e56a7",
         "cvérany",
         "Christian",
         "Vérany",
         "43894",
         "3e7956190015a301924fb6d7409665a6",
         "cvérany@supersmartmarket.fr"
        ],
        [
         "2",
         "4853b03deab973a1a8e466025bce5b52",
         "sdeslys",
         "Solène",
         "Deslys",
         "44882",
         "45154756438492cd025e3e000781e200",
         "sdeslys@supersmartmarket.fr"
        ],
        [
         "3",
         "e44eabec860498a79e675200bc8fa455",
         "acoquelin",
         "Amand",
         "Coquelin",
         "44380",
         "d0575b3bf61100514cedb05d87a9b689",
         "acoquelin@supersmartmarket.fr"
        ],
        [
         "4",
         "fa836e3f5faf72d24e079235332169ce",
         "egrosjean",
         "Emmanuel",
         "Grosjean",
         "45192",
         "3a366362e4c0016df16dbd2cfb6c7e2a",
         "egrosjean@supersmartmarket.fr"
        ]
       ],
       "shape": {
        "columns": 7,
        "rows": 5
       }
      },
      "text/html": [
       "<div>\n",
       "<style scoped>\n",
       "    .dataframe tbody tr th:only-of-type {\n",
       "        vertical-align: middle;\n",
       "    }\n",
       "\n",
       "    .dataframe tbody tr th {\n",
       "        vertical-align: top;\n",
       "    }\n",
       "\n",
       "    .dataframe thead th {\n",
       "        text-align: right;\n",
       "    }\n",
       "</style>\n",
       "<table border=\"1\" class=\"dataframe\">\n",
       "  <thead>\n",
       "    <tr style=\"text-align: right;\">\n",
       "      <th></th>\n",
       "      <th>id_employe</th>\n",
       "      <th>employe</th>\n",
       "      <th>prenom</th>\n",
       "      <th>nom</th>\n",
       "      <th>date_debut</th>\n",
       "      <th>hash_mdp</th>\n",
       "      <th>mail</th>\n",
       "    </tr>\n",
       "  </thead>\n",
       "  <tbody>\n",
       "    <tr>\n",
       "      <th>0</th>\n",
       "      <td>6fa61d0ecae0b563fef18d36b2039c8e</td>\n",
       "      <td>lmaret</td>\n",
       "      <td>Laure</td>\n",
       "      <td>Maret</td>\n",
       "      <td>43961</td>\n",
       "      <td>0373c45921fbaa7530f34b39e71ba93c</td>\n",
       "      <td>lmaret@supersmartmarket.fr</td>\n",
       "    </tr>\n",
       "    <tr>\n",
       "      <th>1</th>\n",
       "      <td>37c6a856b2e14217855d808fbc8e56a7</td>\n",
       "      <td>cvérany</td>\n",
       "      <td>Christian</td>\n",
       "      <td>Vérany</td>\n",
       "      <td>43894</td>\n",
       "      <td>3e7956190015a301924fb6d7409665a6</td>\n",
       "      <td>cvérany@supersmartmarket.fr</td>\n",
       "    </tr>\n",
       "    <tr>\n",
       "      <th>2</th>\n",
       "      <td>4853b03deab973a1a8e466025bce5b52</td>\n",
       "      <td>sdeslys</td>\n",
       "      <td>Solène</td>\n",
       "      <td>Deslys</td>\n",
       "      <td>44882</td>\n",
       "      <td>45154756438492cd025e3e000781e200</td>\n",
       "      <td>sdeslys@supersmartmarket.fr</td>\n",
       "    </tr>\n",
       "    <tr>\n",
       "      <th>3</th>\n",
       "      <td>e44eabec860498a79e675200bc8fa455</td>\n",
       "      <td>acoquelin</td>\n",
       "      <td>Amand</td>\n",
       "      <td>Coquelin</td>\n",
       "      <td>44380</td>\n",
       "      <td>d0575b3bf61100514cedb05d87a9b689</td>\n",
       "      <td>acoquelin@supersmartmarket.fr</td>\n",
       "    </tr>\n",
       "    <tr>\n",
       "      <th>4</th>\n",
       "      <td>fa836e3f5faf72d24e079235332169ce</td>\n",
       "      <td>egrosjean</td>\n",
       "      <td>Emmanuel</td>\n",
       "      <td>Grosjean</td>\n",
       "      <td>45192</td>\n",
       "      <td>3a366362e4c0016df16dbd2cfb6c7e2a</td>\n",
       "      <td>egrosjean@supersmartmarket.fr</td>\n",
       "    </tr>\n",
       "  </tbody>\n",
       "</table>\n",
       "</div>"
      ],
      "text/plain": [
       "                         id_employe    employe     prenom       nom  \\\n",
       "0  6fa61d0ecae0b563fef18d36b2039c8e     lmaret      Laure     Maret   \n",
       "1  37c6a856b2e14217855d808fbc8e56a7    cvérany  Christian    Vérany   \n",
       "2  4853b03deab973a1a8e466025bce5b52    sdeslys     Solène    Deslys   \n",
       "3  e44eabec860498a79e675200bc8fa455  acoquelin      Amand  Coquelin   \n",
       "4  fa836e3f5faf72d24e079235332169ce  egrosjean   Emmanuel  Grosjean   \n",
       "\n",
       "   date_debut                          hash_mdp                           mail  \n",
       "0       43961  0373c45921fbaa7530f34b39e71ba93c     lmaret@supersmartmarket.fr  \n",
       "1       43894  3e7956190015a301924fb6d7409665a6    cvérany@supersmartmarket.fr  \n",
       "2       44882  45154756438492cd025e3e000781e200    sdeslys@supersmartmarket.fr  \n",
       "3       44380  d0575b3bf61100514cedb05d87a9b689  acoquelin@supersmartmarket.fr  \n",
       "4       45192  3a366362e4c0016df16dbd2cfb6c7e2a  egrosjean@supersmartmarket.fr  "
      ]
     },
     "execution_count": 154,
     "metadata": {},
     "output_type": "execute_result"
    }
   ],
   "source": [
    "df_employe.head()"
   ]
  },
  {
   "cell_type": "code",
   "execution_count": 155,
   "id": "d1d98bfe",
   "metadata": {},
   "outputs": [
    {
     "name": "stdout",
     "output_type": "stream",
     "text": [
      "id_employe  : toutes les lignes ont le même nombres de caractères. Nombres de caractères [32]\n",
      "employe : les lignes ont des longueurs différentes\n",
      "prenom : les lignes ont des longueurs différentes\n",
      "nom : les lignes ont des longueurs différentes\n",
      "date_debut  : toutes les lignes ont le même nombres de caractères. Nombres de caractères [5]\n",
      "hash_mdp  : toutes les lignes ont le même nombres de caractères. Nombres de caractères [32]\n",
      "mail : les lignes ont des longueurs différentes\n"
     ]
    }
   ],
   "source": [
    "for col in df_employe.columns:\n",
    "    str_egal(df_employe,col)"
   ]
  },
  {
   "cell_type": "markdown",
   "id": "89da9145",
   "metadata": {},
   "source": [
    "### Préparation table de données"
   ]
  },
  {
   "cell_type": "markdown",
   "id": "a8e626c3",
   "metadata": {},
   "source": [
    "#### Table vente"
   ]
  },
  {
   "cell_type": "code",
   "execution_count": 156,
   "id": "576e5422",
   "metadata": {},
   "outputs": [
    {
     "data": {
      "application/vnd.microsoft.datawrangler.viewer.v0+json": {
       "columns": [
        {
         "name": "index",
         "rawType": "int64",
         "type": "integer"
        },
        {
         "name": "ID_BDD",
         "rawType": "object",
         "type": "string"
        },
        {
         "name": "CUSTOMER_ID",
         "rawType": "object",
         "type": "string"
        },
        {
         "name": "id_employe",
         "rawType": "object",
         "type": "string"
        },
        {
         "name": "EAN",
         "rawType": "int64",
         "type": "integer"
        },
        {
         "name": "Date achat",
         "rawType": "int64",
         "type": "integer"
        },
        {
         "name": "ID ticket",
         "rawType": "object",
         "type": "string"
        }
       ],
       "ref": "10d374b6-7185-4dd4-9f65-12d6b137e802",
       "rows": [
        [
         "0",
         "HZDG8U15NNY7SI6HDK8NMFDEK7MOVUX31VY",
         "CUST-G42Z6WE8QLWJ",
         "b413ca065a762e8cf2e86cfea8b9c174",
         "6473630445822",
         "45518",
         "t_2693"
        ],
        [
         "1",
         "1H51BRR800TK9DCIH8M9QCRH3LEAR0JWALJ",
         "CUST-CUA37GP8GABQ",
         "a7ada0770091e838e3dcd45265282820",
         "1857802002765",
         "45518",
         "t_4408"
        ],
        [
         "2",
         "W6VNWK6ZX0D4QZ545ZD5Y0THWQQDBTXABXO",
         "CUST-NHWI0DGNESYI",
         "fa836e3f5faf72d24e079235332169ce",
         "6831886714876",
         "45518",
         "t_3258"
        ],
        [
         "3",
         "58EC3JD1TDZZAVQZAW4AHFOUEKTR61ZLB70",
         "CUST-IYXDMN7Q11O4",
         "6c1c3292c852c6c593b95cc146b00c0e",
         "6916826750723",
         "45518",
         "t_1080"
        ],
        [
         "4",
         "96FE6HA91BRDDF6XRI3O9B83M5PKIXCIXZV",
         "CUST-VR9O54A46EVF",
         "38680e129f45c49322cb12303b7fb655",
         "7930902861368",
         "45518",
         "t_979"
        ]
       ],
       "shape": {
        "columns": 6,
        "rows": 5
       }
      },
      "text/html": [
       "<div>\n",
       "<style scoped>\n",
       "    .dataframe tbody tr th:only-of-type {\n",
       "        vertical-align: middle;\n",
       "    }\n",
       "\n",
       "    .dataframe tbody tr th {\n",
       "        vertical-align: top;\n",
       "    }\n",
       "\n",
       "    .dataframe thead th {\n",
       "        text-align: right;\n",
       "    }\n",
       "</style>\n",
       "<table border=\"1\" class=\"dataframe\">\n",
       "  <thead>\n",
       "    <tr style=\"text-align: right;\">\n",
       "      <th></th>\n",
       "      <th>ID_BDD</th>\n",
       "      <th>CUSTOMER_ID</th>\n",
       "      <th>id_employe</th>\n",
       "      <th>EAN</th>\n",
       "      <th>Date achat</th>\n",
       "      <th>ID ticket</th>\n",
       "    </tr>\n",
       "  </thead>\n",
       "  <tbody>\n",
       "    <tr>\n",
       "      <th>0</th>\n",
       "      <td>HZDG8U15NNY7SI6HDK8NMFDEK7MOVUX31VY</td>\n",
       "      <td>CUST-G42Z6WE8QLWJ</td>\n",
       "      <td>b413ca065a762e8cf2e86cfea8b9c174</td>\n",
       "      <td>6473630445822</td>\n",
       "      <td>45518</td>\n",
       "      <td>t_2693</td>\n",
       "    </tr>\n",
       "    <tr>\n",
       "      <th>1</th>\n",
       "      <td>1H51BRR800TK9DCIH8M9QCRH3LEAR0JWALJ</td>\n",
       "      <td>CUST-CUA37GP8GABQ</td>\n",
       "      <td>a7ada0770091e838e3dcd45265282820</td>\n",
       "      <td>1857802002765</td>\n",
       "      <td>45518</td>\n",
       "      <td>t_4408</td>\n",
       "    </tr>\n",
       "    <tr>\n",
       "      <th>2</th>\n",
       "      <td>W6VNWK6ZX0D4QZ545ZD5Y0THWQQDBTXABXO</td>\n",
       "      <td>CUST-NHWI0DGNESYI</td>\n",
       "      <td>fa836e3f5faf72d24e079235332169ce</td>\n",
       "      <td>6831886714876</td>\n",
       "      <td>45518</td>\n",
       "      <td>t_3258</td>\n",
       "    </tr>\n",
       "    <tr>\n",
       "      <th>3</th>\n",
       "      <td>58EC3JD1TDZZAVQZAW4AHFOUEKTR61ZLB70</td>\n",
       "      <td>CUST-IYXDMN7Q11O4</td>\n",
       "      <td>6c1c3292c852c6c593b95cc146b00c0e</td>\n",
       "      <td>6916826750723</td>\n",
       "      <td>45518</td>\n",
       "      <td>t_1080</td>\n",
       "    </tr>\n",
       "    <tr>\n",
       "      <th>4</th>\n",
       "      <td>96FE6HA91BRDDF6XRI3O9B83M5PKIXCIXZV</td>\n",
       "      <td>CUST-VR9O54A46EVF</td>\n",
       "      <td>38680e129f45c49322cb12303b7fb655</td>\n",
       "      <td>7930902861368</td>\n",
       "      <td>45518</td>\n",
       "      <td>t_979</td>\n",
       "    </tr>\n",
       "  </tbody>\n",
       "</table>\n",
       "</div>"
      ],
      "text/plain": [
       "                                ID_BDD        CUSTOMER_ID  \\\n",
       "0  HZDG8U15NNY7SI6HDK8NMFDEK7MOVUX31VY  CUST-G42Z6WE8QLWJ   \n",
       "1  1H51BRR800TK9DCIH8M9QCRH3LEAR0JWALJ  CUST-CUA37GP8GABQ   \n",
       "2  W6VNWK6ZX0D4QZ545ZD5Y0THWQQDBTXABXO  CUST-NHWI0DGNESYI   \n",
       "3  58EC3JD1TDZZAVQZAW4AHFOUEKTR61ZLB70  CUST-IYXDMN7Q11O4   \n",
       "4  96FE6HA91BRDDF6XRI3O9B83M5PKIXCIXZV  CUST-VR9O54A46EVF   \n",
       "\n",
       "                         id_employe            EAN  Date achat ID ticket  \n",
       "0  b413ca065a762e8cf2e86cfea8b9c174  6473630445822       45518    t_2693  \n",
       "1  a7ada0770091e838e3dcd45265282820  1857802002765       45518    t_4408  \n",
       "2  fa836e3f5faf72d24e079235332169ce  6831886714876       45518    t_3258  \n",
       "3  6c1c3292c852c6c593b95cc146b00c0e  6916826750723       45518    t_1080  \n",
       "4  38680e129f45c49322cb12303b7fb655  7930902861368       45518     t_979  "
      ]
     },
     "execution_count": 156,
     "metadata": {},
     "output_type": "execute_result"
    }
   ],
   "source": [
    "df_vente.head()"
   ]
  },
  {
   "cell_type": "code",
   "execution_count": 157,
   "id": "4ec4161e",
   "metadata": {},
   "outputs": [],
   "source": [
    "df_vente = df_vente.rename(columns={'ID_BDD':'id_vente','CUSTOMER_ID':'id_client','EAN':'id_produit','Date achat':'id_date','ID ticket':'id_ticket'})"
   ]
  },
  {
   "cell_type": "code",
   "execution_count": 158,
   "id": "7ef9e129",
   "metadata": {},
   "outputs": [],
   "source": [
    "df_vente.to_csv('data/tbl_vente.csv', encoding='utf-8', index=False, sep=';')"
   ]
  },
  {
   "cell_type": "markdown",
   "id": "e4a2a6b9",
   "metadata": {},
   "source": [
    "#### Table Produit"
   ]
  },
  {
   "cell_type": "code",
   "execution_count": 159,
   "id": "3663f53c",
   "metadata": {},
   "outputs": [
    {
     "data": {
      "application/vnd.microsoft.datawrangler.viewer.v0+json": {
       "columns": [
        {
         "name": "index",
         "rawType": "int64",
         "type": "integer"
        },
        {
         "name": "EAN",
         "rawType": "int64",
         "type": "integer"
        },
        {
         "name": "categorie",
         "rawType": "object",
         "type": "string"
        },
        {
         "name": "Rayon",
         "rawType": "object",
         "type": "string"
        },
        {
         "name": "Libelle_produit",
         "rawType": "object",
         "type": "string"
        },
        {
         "name": "prix",
         "rawType": "float64",
         "type": "float"
        }
       ],
       "ref": "8e2fb1bc-64e6-4a60-8c0a-14c8189fa1e5",
       "rows": [
        [
         "0",
         "5026767366043",
         "Produits Secs & Conserves",
         "pates",
         "500g penne rigate panzani",
         "1.24"
        ],
        [
         "1",
         "1002603715237",
         "Produits Secs & Conserves",
         "pates",
         "500g spaghetti panzani",
         "0.84"
        ],
        [
         "2",
         "2113941413715",
         "Produits Secs & Conserves",
         "pates",
         "1kg coquillettes panzani",
         "1.73"
        ],
        [
         "3",
         "2597945667827",
         "Produits Secs & Conserves",
         "pates",
         "1kg spaghetti panzani",
         "1.53"
        ],
        [
         "4",
         "8046456922921",
         "Produits Secs & Conserves",
         "pates",
         "panzani farfalle 500g",
         "1.22"
        ]
       ],
       "shape": {
        "columns": 5,
        "rows": 5
       }
      },
      "text/html": [
       "<div>\n",
       "<style scoped>\n",
       "    .dataframe tbody tr th:only-of-type {\n",
       "        vertical-align: middle;\n",
       "    }\n",
       "\n",
       "    .dataframe tbody tr th {\n",
       "        vertical-align: top;\n",
       "    }\n",
       "\n",
       "    .dataframe thead th {\n",
       "        text-align: right;\n",
       "    }\n",
       "</style>\n",
       "<table border=\"1\" class=\"dataframe\">\n",
       "  <thead>\n",
       "    <tr style=\"text-align: right;\">\n",
       "      <th></th>\n",
       "      <th>EAN</th>\n",
       "      <th>categorie</th>\n",
       "      <th>Rayon</th>\n",
       "      <th>Libelle_produit</th>\n",
       "      <th>prix</th>\n",
       "    </tr>\n",
       "  </thead>\n",
       "  <tbody>\n",
       "    <tr>\n",
       "      <th>0</th>\n",
       "      <td>5026767366043</td>\n",
       "      <td>Produits Secs &amp; Conserves</td>\n",
       "      <td>pates</td>\n",
       "      <td>500g penne rigate panzani</td>\n",
       "      <td>1.24</td>\n",
       "    </tr>\n",
       "    <tr>\n",
       "      <th>1</th>\n",
       "      <td>1002603715237</td>\n",
       "      <td>Produits Secs &amp; Conserves</td>\n",
       "      <td>pates</td>\n",
       "      <td>500g spaghetti panzani</td>\n",
       "      <td>0.84</td>\n",
       "    </tr>\n",
       "    <tr>\n",
       "      <th>2</th>\n",
       "      <td>2113941413715</td>\n",
       "      <td>Produits Secs &amp; Conserves</td>\n",
       "      <td>pates</td>\n",
       "      <td>1kg coquillettes panzani</td>\n",
       "      <td>1.73</td>\n",
       "    </tr>\n",
       "    <tr>\n",
       "      <th>3</th>\n",
       "      <td>2597945667827</td>\n",
       "      <td>Produits Secs &amp; Conserves</td>\n",
       "      <td>pates</td>\n",
       "      <td>1kg spaghetti panzani</td>\n",
       "      <td>1.53</td>\n",
       "    </tr>\n",
       "    <tr>\n",
       "      <th>4</th>\n",
       "      <td>8046456922921</td>\n",
       "      <td>Produits Secs &amp; Conserves</td>\n",
       "      <td>pates</td>\n",
       "      <td>panzani farfalle 500g</td>\n",
       "      <td>1.22</td>\n",
       "    </tr>\n",
       "  </tbody>\n",
       "</table>\n",
       "</div>"
      ],
      "text/plain": [
       "             EAN                  categorie  Rayon            Libelle_produit  \\\n",
       "0  5026767366043  Produits Secs & Conserves  pates  500g penne rigate panzani   \n",
       "1  1002603715237  Produits Secs & Conserves  pates     500g spaghetti panzani   \n",
       "2  2113941413715  Produits Secs & Conserves  pates   1kg coquillettes panzani   \n",
       "3  2597945667827  Produits Secs & Conserves  pates      1kg spaghetti panzani   \n",
       "4  8046456922921  Produits Secs & Conserves  pates      panzani farfalle 500g   \n",
       "\n",
       "   prix  \n",
       "0  1.24  \n",
       "1  0.84  \n",
       "2  1.73  \n",
       "3  1.53  \n",
       "4  1.22  "
      ]
     },
     "execution_count": 159,
     "metadata": {},
     "output_type": "execute_result"
    }
   ],
   "source": [
    "df_produit.head()"
   ]
  },
  {
   "cell_type": "code",
   "execution_count": 160,
   "id": "2a8f1af4",
   "metadata": {},
   "outputs": [],
   "source": [
    "df_produit = df_produit.rename(columns={'EAN':'id_produit','Rayon':'rayon','Libelle_produit':'nom_produit','prix':'prix_produit'})"
   ]
  },
  {
   "cell_type": "code",
   "execution_count": 161,
   "id": "5b5c1f1a",
   "metadata": {},
   "outputs": [],
   "source": [
    "df_produit.to_csv('data/tbl_produit.csv', encoding='utf-8', index=False, sep=';')"
   ]
  },
  {
   "cell_type": "markdown",
   "id": "6796a1b1",
   "metadata": {},
   "source": [
    "#### Table Employe"
   ]
  },
  {
   "cell_type": "code",
   "execution_count": 162,
   "id": "86478fa9",
   "metadata": {},
   "outputs": [
    {
     "data": {
      "application/vnd.microsoft.datawrangler.viewer.v0+json": {
       "columns": [
        {
         "name": "index",
         "rawType": "int64",
         "type": "integer"
        },
        {
         "name": "id_employe",
         "rawType": "object",
         "type": "string"
        },
        {
         "name": "employe",
         "rawType": "object",
         "type": "string"
        },
        {
         "name": "prenom",
         "rawType": "object",
         "type": "string"
        },
        {
         "name": "nom",
         "rawType": "object",
         "type": "string"
        },
        {
         "name": "date_debut",
         "rawType": "int64",
         "type": "integer"
        },
        {
         "name": "hash_mdp",
         "rawType": "object",
         "type": "string"
        },
        {
         "name": "mail",
         "rawType": "object",
         "type": "string"
        }
       ],
       "ref": "9b979be5-3341-4e1b-87d9-59719420cac4",
       "rows": [
        [
         "0",
         "6fa61d0ecae0b563fef18d36b2039c8e",
         "lmaret",
         "Laure",
         "Maret",
         "43961",
         "0373c45921fbaa7530f34b39e71ba93c",
         "lmaret@supersmartmarket.fr"
        ],
        [
         "1",
         "37c6a856b2e14217855d808fbc8e56a7",
         "cvérany",
         "Christian",
         "Vérany",
         "43894",
         "3e7956190015a301924fb6d7409665a6",
         "cvérany@supersmartmarket.fr"
        ],
        [
         "2",
         "4853b03deab973a1a8e466025bce5b52",
         "sdeslys",
         "Solène",
         "Deslys",
         "44882",
         "45154756438492cd025e3e000781e200",
         "sdeslys@supersmartmarket.fr"
        ],
        [
         "3",
         "e44eabec860498a79e675200bc8fa455",
         "acoquelin",
         "Amand",
         "Coquelin",
         "44380",
         "d0575b3bf61100514cedb05d87a9b689",
         "acoquelin@supersmartmarket.fr"
        ],
        [
         "4",
         "fa836e3f5faf72d24e079235332169ce",
         "egrosjean",
         "Emmanuel",
         "Grosjean",
         "45192",
         "3a366362e4c0016df16dbd2cfb6c7e2a",
         "egrosjean@supersmartmarket.fr"
        ]
       ],
       "shape": {
        "columns": 7,
        "rows": 5
       }
      },
      "text/html": [
       "<div>\n",
       "<style scoped>\n",
       "    .dataframe tbody tr th:only-of-type {\n",
       "        vertical-align: middle;\n",
       "    }\n",
       "\n",
       "    .dataframe tbody tr th {\n",
       "        vertical-align: top;\n",
       "    }\n",
       "\n",
       "    .dataframe thead th {\n",
       "        text-align: right;\n",
       "    }\n",
       "</style>\n",
       "<table border=\"1\" class=\"dataframe\">\n",
       "  <thead>\n",
       "    <tr style=\"text-align: right;\">\n",
       "      <th></th>\n",
       "      <th>id_employe</th>\n",
       "      <th>employe</th>\n",
       "      <th>prenom</th>\n",
       "      <th>nom</th>\n",
       "      <th>date_debut</th>\n",
       "      <th>hash_mdp</th>\n",
       "      <th>mail</th>\n",
       "    </tr>\n",
       "  </thead>\n",
       "  <tbody>\n",
       "    <tr>\n",
       "      <th>0</th>\n",
       "      <td>6fa61d0ecae0b563fef18d36b2039c8e</td>\n",
       "      <td>lmaret</td>\n",
       "      <td>Laure</td>\n",
       "      <td>Maret</td>\n",
       "      <td>43961</td>\n",
       "      <td>0373c45921fbaa7530f34b39e71ba93c</td>\n",
       "      <td>lmaret@supersmartmarket.fr</td>\n",
       "    </tr>\n",
       "    <tr>\n",
       "      <th>1</th>\n",
       "      <td>37c6a856b2e14217855d808fbc8e56a7</td>\n",
       "      <td>cvérany</td>\n",
       "      <td>Christian</td>\n",
       "      <td>Vérany</td>\n",
       "      <td>43894</td>\n",
       "      <td>3e7956190015a301924fb6d7409665a6</td>\n",
       "      <td>cvérany@supersmartmarket.fr</td>\n",
       "    </tr>\n",
       "    <tr>\n",
       "      <th>2</th>\n",
       "      <td>4853b03deab973a1a8e466025bce5b52</td>\n",
       "      <td>sdeslys</td>\n",
       "      <td>Solène</td>\n",
       "      <td>Deslys</td>\n",
       "      <td>44882</td>\n",
       "      <td>45154756438492cd025e3e000781e200</td>\n",
       "      <td>sdeslys@supersmartmarket.fr</td>\n",
       "    </tr>\n",
       "    <tr>\n",
       "      <th>3</th>\n",
       "      <td>e44eabec860498a79e675200bc8fa455</td>\n",
       "      <td>acoquelin</td>\n",
       "      <td>Amand</td>\n",
       "      <td>Coquelin</td>\n",
       "      <td>44380</td>\n",
       "      <td>d0575b3bf61100514cedb05d87a9b689</td>\n",
       "      <td>acoquelin@supersmartmarket.fr</td>\n",
       "    </tr>\n",
       "    <tr>\n",
       "      <th>4</th>\n",
       "      <td>fa836e3f5faf72d24e079235332169ce</td>\n",
       "      <td>egrosjean</td>\n",
       "      <td>Emmanuel</td>\n",
       "      <td>Grosjean</td>\n",
       "      <td>45192</td>\n",
       "      <td>3a366362e4c0016df16dbd2cfb6c7e2a</td>\n",
       "      <td>egrosjean@supersmartmarket.fr</td>\n",
       "    </tr>\n",
       "  </tbody>\n",
       "</table>\n",
       "</div>"
      ],
      "text/plain": [
       "                         id_employe    employe     prenom       nom  \\\n",
       "0  6fa61d0ecae0b563fef18d36b2039c8e     lmaret      Laure     Maret   \n",
       "1  37c6a856b2e14217855d808fbc8e56a7    cvérany  Christian    Vérany   \n",
       "2  4853b03deab973a1a8e466025bce5b52    sdeslys     Solène    Deslys   \n",
       "3  e44eabec860498a79e675200bc8fa455  acoquelin      Amand  Coquelin   \n",
       "4  fa836e3f5faf72d24e079235332169ce  egrosjean   Emmanuel  Grosjean   \n",
       "\n",
       "   date_debut                          hash_mdp                           mail  \n",
       "0       43961  0373c45921fbaa7530f34b39e71ba93c     lmaret@supersmartmarket.fr  \n",
       "1       43894  3e7956190015a301924fb6d7409665a6    cvérany@supersmartmarket.fr  \n",
       "2       44882  45154756438492cd025e3e000781e200    sdeslys@supersmartmarket.fr  \n",
       "3       44380  d0575b3bf61100514cedb05d87a9b689  acoquelin@supersmartmarket.fr  \n",
       "4       45192  3a366362e4c0016df16dbd2cfb6c7e2a  egrosjean@supersmartmarket.fr  "
      ]
     },
     "execution_count": 162,
     "metadata": {},
     "output_type": "execute_result"
    }
   ],
   "source": [
    "df_employe.head()"
   ]
  },
  {
   "cell_type": "code",
   "execution_count": 163,
   "id": "ab99220f",
   "metadata": {},
   "outputs": [],
   "source": [
    "df_employe = df_employe.rename(columns={'employe':'pseudo_employe','date_debut':'id_date_debut'})"
   ]
  },
  {
   "cell_type": "code",
   "execution_count": 164,
   "id": "77dc7911",
   "metadata": {},
   "outputs": [],
   "source": [
    "df_employe.to_csv('data/tbl_employe.csv', encoding='utf-8', index=False, sep=';')"
   ]
  },
  {
   "cell_type": "markdown",
   "id": "d90088bd",
   "metadata": {},
   "source": [
    "#### Table Clients"
   ]
  },
  {
   "cell_type": "code",
   "execution_count": 165,
   "id": "f80aca61",
   "metadata": {},
   "outputs": [
    {
     "data": {
      "application/vnd.microsoft.datawrangler.viewer.v0+json": {
       "columns": [
        {
         "name": "index",
         "rawType": "int64",
         "type": "integer"
        },
        {
         "name": "CUSTUMER_ID",
         "rawType": "object",
         "type": "string"
        },
        {
         "name": "date_inscription",
         "rawType": "datetime64[ns]",
         "type": "datetime"
        }
       ],
       "ref": "088a2c72-3308-4f86-9857-4682bad09903",
       "rows": [
        [
         "0",
         "CUST-2KYXXXW1NK7I",
         "2023-07-17 00:00:00"
        ],
        [
         "1",
         "CUST-NR43XRT2PXYG",
         "2023-09-07 00:00:00"
        ],
        [
         "2",
         "CUST-CH58P8PSVIYU",
         "2021-08-24 00:00:00"
        ],
        [
         "3",
         "CUST-CI7JQHW4TIYT",
         "2021-12-22 00:00:00"
        ],
        [
         "4",
         "CUST-3QHP3KL4NPP2",
         "2020-12-20 00:00:00"
        ]
       ],
       "shape": {
        "columns": 2,
        "rows": 5
       }
      },
      "text/html": [
       "<div>\n",
       "<style scoped>\n",
       "    .dataframe tbody tr th:only-of-type {\n",
       "        vertical-align: middle;\n",
       "    }\n",
       "\n",
       "    .dataframe tbody tr th {\n",
       "        vertical-align: top;\n",
       "    }\n",
       "\n",
       "    .dataframe thead th {\n",
       "        text-align: right;\n",
       "    }\n",
       "</style>\n",
       "<table border=\"1\" class=\"dataframe\">\n",
       "  <thead>\n",
       "    <tr style=\"text-align: right;\">\n",
       "      <th></th>\n",
       "      <th>CUSTUMER_ID</th>\n",
       "      <th>date_inscription</th>\n",
       "    </tr>\n",
       "  </thead>\n",
       "  <tbody>\n",
       "    <tr>\n",
       "      <th>0</th>\n",
       "      <td>CUST-2KYXXXW1NK7I</td>\n",
       "      <td>2023-07-17</td>\n",
       "    </tr>\n",
       "    <tr>\n",
       "      <th>1</th>\n",
       "      <td>CUST-NR43XRT2PXYG</td>\n",
       "      <td>2023-09-07</td>\n",
       "    </tr>\n",
       "    <tr>\n",
       "      <th>2</th>\n",
       "      <td>CUST-CH58P8PSVIYU</td>\n",
       "      <td>2021-08-24</td>\n",
       "    </tr>\n",
       "    <tr>\n",
       "      <th>3</th>\n",
       "      <td>CUST-CI7JQHW4TIYT</td>\n",
       "      <td>2021-12-22</td>\n",
       "    </tr>\n",
       "    <tr>\n",
       "      <th>4</th>\n",
       "      <td>CUST-3QHP3KL4NPP2</td>\n",
       "      <td>2020-12-20</td>\n",
       "    </tr>\n",
       "  </tbody>\n",
       "</table>\n",
       "</div>"
      ],
      "text/plain": [
       "         CUSTUMER_ID date_inscription\n",
       "0  CUST-2KYXXXW1NK7I       2023-07-17\n",
       "1  CUST-NR43XRT2PXYG       2023-09-07\n",
       "2  CUST-CH58P8PSVIYU       2021-08-24\n",
       "3  CUST-CI7JQHW4TIYT       2021-12-22\n",
       "4  CUST-3QHP3KL4NPP2       2020-12-20"
      ]
     },
     "execution_count": 165,
     "metadata": {},
     "output_type": "execute_result"
    }
   ],
   "source": [
    "df_clients.head()"
   ]
  },
  {
   "cell_type": "code",
   "execution_count": 166,
   "id": "0028c52f",
   "metadata": {},
   "outputs": [],
   "source": [
    "df_clients = df_clients.rename(columns={'CUSTOMER_ID':'id_client'})"
   ]
  },
  {
   "cell_type": "code",
   "execution_count": 167,
   "id": "5eff151b",
   "metadata": {},
   "outputs": [],
   "source": [
    "df_clients.to_csv('data/tbl_clients.csv', encoding='utf-8', index=False, sep=';')"
   ]
  },
  {
   "cell_type": "markdown",
   "id": "ad8834d7",
   "metadata": {},
   "source": [
    "#### Table Calendrier"
   ]
  },
  {
   "cell_type": "code",
   "execution_count": 168,
   "id": "847cf3e8",
   "metadata": {},
   "outputs": [
    {
     "data": {
      "application/vnd.microsoft.datawrangler.viewer.v0+json": {
       "columns": [
        {
         "name": "index",
         "rawType": "int64",
         "type": "integer"
        },
        {
         "name": "date",
         "rawType": "int64",
         "type": "integer"
        },
        {
         "name": "annee",
         "rawType": "int64",
         "type": "integer"
        },
        {
         "name": "mois",
         "rawType": "int64",
         "type": "integer"
        },
        {
         "name": "Jour",
         "rawType": "datetime64[ns]",
         "type": "datetime"
        },
        {
         "name": "mois_nom",
         "rawType": "object",
         "type": "string"
        },
        {
         "name": "annee_mois",
         "rawType": "int64",
         "type": "integer"
        },
        {
         "name": "jour_semaine",
         "rawType": "int64",
         "type": "integer"
        },
        {
         "name": "trimestre",
         "rawType": "object",
         "type": "string"
        }
       ],
       "ref": "f5b13b25-afd7-4798-b316-e3cf5f32eff2",
       "rows": [
        [
         "0",
         "43831",
         "2020",
         "1",
         "1900-01-01 00:00:00",
         "janvier",
         "43831",
         "4",
         "Q1"
        ],
        [
         "1",
         "43832",
         "2020",
         "1",
         "1900-01-02 00:00:00",
         "janvier",
         "43831",
         "5",
         "Q1"
        ],
        [
         "2",
         "43833",
         "2020",
         "1",
         "1900-01-03 00:00:00",
         "janvier",
         "43831",
         "6",
         "Q1"
        ],
        [
         "3",
         "43834",
         "2020",
         "1",
         "1900-01-04 00:00:00",
         "janvier",
         "43831",
         "7",
         "Q1"
        ],
        [
         "4",
         "43835",
         "2020",
         "1",
         "1900-01-05 00:00:00",
         "janvier",
         "43831",
         "1",
         "Q1"
        ]
       ],
       "shape": {
        "columns": 8,
        "rows": 5
       }
      },
      "text/html": [
       "<div>\n",
       "<style scoped>\n",
       "    .dataframe tbody tr th:only-of-type {\n",
       "        vertical-align: middle;\n",
       "    }\n",
       "\n",
       "    .dataframe tbody tr th {\n",
       "        vertical-align: top;\n",
       "    }\n",
       "\n",
       "    .dataframe thead th {\n",
       "        text-align: right;\n",
       "    }\n",
       "</style>\n",
       "<table border=\"1\" class=\"dataframe\">\n",
       "  <thead>\n",
       "    <tr style=\"text-align: right;\">\n",
       "      <th></th>\n",
       "      <th>date</th>\n",
       "      <th>annee</th>\n",
       "      <th>mois</th>\n",
       "      <th>Jour</th>\n",
       "      <th>mois_nom</th>\n",
       "      <th>annee_mois</th>\n",
       "      <th>jour_semaine</th>\n",
       "      <th>trimestre</th>\n",
       "    </tr>\n",
       "  </thead>\n",
       "  <tbody>\n",
       "    <tr>\n",
       "      <th>0</th>\n",
       "      <td>43831</td>\n",
       "      <td>2020</td>\n",
       "      <td>1</td>\n",
       "      <td>1900-01-01</td>\n",
       "      <td>janvier</td>\n",
       "      <td>43831</td>\n",
       "      <td>4</td>\n",
       "      <td>Q1</td>\n",
       "    </tr>\n",
       "    <tr>\n",
       "      <th>1</th>\n",
       "      <td>43832</td>\n",
       "      <td>2020</td>\n",
       "      <td>1</td>\n",
       "      <td>1900-01-02</td>\n",
       "      <td>janvier</td>\n",
       "      <td>43831</td>\n",
       "      <td>5</td>\n",
       "      <td>Q1</td>\n",
       "    </tr>\n",
       "    <tr>\n",
       "      <th>2</th>\n",
       "      <td>43833</td>\n",
       "      <td>2020</td>\n",
       "      <td>1</td>\n",
       "      <td>1900-01-03</td>\n",
       "      <td>janvier</td>\n",
       "      <td>43831</td>\n",
       "      <td>6</td>\n",
       "      <td>Q1</td>\n",
       "    </tr>\n",
       "    <tr>\n",
       "      <th>3</th>\n",
       "      <td>43834</td>\n",
       "      <td>2020</td>\n",
       "      <td>1</td>\n",
       "      <td>1900-01-04</td>\n",
       "      <td>janvier</td>\n",
       "      <td>43831</td>\n",
       "      <td>7</td>\n",
       "      <td>Q1</td>\n",
       "    </tr>\n",
       "    <tr>\n",
       "      <th>4</th>\n",
       "      <td>43835</td>\n",
       "      <td>2020</td>\n",
       "      <td>1</td>\n",
       "      <td>1900-01-05</td>\n",
       "      <td>janvier</td>\n",
       "      <td>43831</td>\n",
       "      <td>1</td>\n",
       "      <td>Q1</td>\n",
       "    </tr>\n",
       "  </tbody>\n",
       "</table>\n",
       "</div>"
      ],
      "text/plain": [
       "    date  annee  mois       Jour mois_nom  annee_mois  jour_semaine trimestre\n",
       "0  43831   2020     1 1900-01-01  janvier       43831             4        Q1\n",
       "1  43832   2020     1 1900-01-02  janvier       43831             5        Q1\n",
       "2  43833   2020     1 1900-01-03  janvier       43831             6        Q1\n",
       "3  43834   2020     1 1900-01-04  janvier       43831             7        Q1\n",
       "4  43835   2020     1 1900-01-05  janvier       43831             1        Q1"
      ]
     },
     "execution_count": 168,
     "metadata": {},
     "output_type": "execute_result"
    }
   ],
   "source": [
    "df_calendrier.head()"
   ]
  },
  {
   "cell_type": "code",
   "execution_count": 169,
   "id": "dc202e8a",
   "metadata": {},
   "outputs": [],
   "source": [
    "df_calendrier = df_calendrier.rename(columns={'date':'id_date','Jour':'jour','mois_nom':'nom_mois','annee_mois':'id_annee_mois','jour_semaine':'nb_jour'})"
   ]
  },
  {
   "cell_type": "code",
   "execution_count": 170,
   "id": "3ccd1dbd",
   "metadata": {},
   "outputs": [],
   "source": [
    "df_calendrier['jour'] = df_calendrier['jour'].dt.day"
   ]
  },
  {
   "cell_type": "code",
   "execution_count": 171,
   "id": "06a13540",
   "metadata": {},
   "outputs": [],
   "source": [
    "df_calendrier.to_csv('data/tbl_calendrier.csv', encoding='utf-8', index=False, sep=';')"
   ]
  },
  {
   "cell_type": "markdown",
   "id": "dda8b4ef",
   "metadata": {},
   "source": [
    "### Analyse des logs"
   ]
  },
  {
   "cell_type": "code",
   "execution_count": 172,
   "id": "ec7c1b72",
   "metadata": {},
   "outputs": [],
   "source": [
    "df_logs = pd.read_excel('data/Logs.xlsx')"
   ]
  },
  {
   "cell_type": "code",
   "execution_count": 173,
   "id": "314977ca",
   "metadata": {},
   "outputs": [
    {
     "data": {
      "application/vnd.microsoft.datawrangler.viewer.v0+json": {
       "columns": [
        {
         "name": "index",
         "rawType": "int64",
         "type": "integer"
        },
        {
         "name": "id_user",
         "rawType": "object",
         "type": "string"
        },
        {
         "name": "date",
         "rawType": "int64",
         "type": "integer"
        },
        {
         "name": "action",
         "rawType": "object",
         "type": "string"
        },
        {
         "name": "table_insert",
         "rawType": "object",
         "type": "string"
        },
        {
         "name": "id_ligne",
         "rawType": "object",
         "type": "unknown"
        },
        {
         "name": "champs",
         "rawType": "object",
         "type": "unknown"
        },
        {
         "name": "detail",
         "rawType": "object",
         "type": "unknown"
        },
        {
         "name": "Unnamed: 7",
         "rawType": "float64",
         "type": "float"
        }
       ],
       "ref": "c8540233-cfbf-4ac8-9e8c-dd0f8b5b73e8",
       "rows": [
        [
         "0",
         "0859b70a9ca905a870bfccc5f8440ba1",
         "45518",
         "INSERT",
         "Client",
         "CUST-0P9K9MICI4V3",
         "date_inscription",
         "2024-08-14 00:00:00",
         null
        ],
        [
         "1",
         "c4f0909120cfde7086a3c1a56e96a015",
         "45518",
         "INSERT",
         "Client",
         "CUST-SZ9IS3Q1LBEP",
         "date_inscription",
         "2024-08-14 00:00:00",
         null
        ],
        [
         "2",
         "dd595f0f0b3400df2908f0be7723dad4",
         "45518",
         "INSERT",
         "Client",
         "CUST-L99QEXFV9WTS",
         "date_inscription",
         "2024-08-14 00:00:00",
         null
        ],
        [
         "3",
         "e44eabec860498a79e675200bc8fa455",
         "45518",
         "INSERT",
         "Client",
         "CUST-9SBDRZ728025",
         "date_inscription",
         "2024-08-14 00:00:00",
         null
        ],
        [
         "4",
         "37c6a856b2e14217855d808fbc8e56a7",
         "45518",
         "INSERT",
         "Client",
         "CUST-3F47X2KHYXQM",
         "date_inscription",
         "2024-08-14 00:00:00",
         null
        ],
        [
         "5",
         "07c8b678f8e6f0cb04480ef9ebba10ce",
         "45518",
         "INSERT",
         "Client",
         "CUST-DNIO2MRJHQEJ",
         "date_inscription",
         "2024-08-14 00:00:00",
         null
        ],
        [
         "6",
         "a7e6deb00de876cafcf64809cd659d0c",
         "45518",
         "INSERT",
         "Client",
         "CUST-XOG109TDC4BT",
         "date_inscription",
         "2024-08-14 00:00:00",
         null
        ],
        [
         "7",
         "f491076a1ff2d873ebea809c11144542",
         "45518",
         "INSERT",
         "Client",
         "CUST-ZZ6ASS2HRJ5B",
         "date_inscription",
         "2024-08-14 00:00:00",
         null
        ],
        [
         "8",
         "dd595f0f0b3400df2908f0be7723dad4",
         "45518",
         "INSERT",
         "Client",
         "CUST-EXZZR3IHR279",
         "date_inscription",
         "2024-08-14 00:00:00",
         null
        ],
        [
         "9",
         "6fa61d0ecae0b563fef18d36b2039c8e",
         "45518",
         "INSERT",
         "Client",
         "CUST-SX94Q0ZUD0LT",
         "date_inscription",
         "2024-08-14 00:00:00",
         null
        ],
        [
         "10",
         "6c1c3292c852c6c593b95cc146b00c0e",
         "45518",
         "INSERT",
         "Client",
         "CUST-9BJVABA8K09C",
         "date_inscription",
         "2024-08-14 00:00:00",
         null
        ],
        [
         "11",
         "b5a8777821fdab1a20a4bc0e5f98dfa0",
         "45518",
         "INSERT",
         "Client",
         "CUST-N7XMLXOWA94Y",
         "date_inscription",
         "2024-08-14 00:00:00",
         null
        ],
        [
         "12",
         "951e47dfa4c5298382d1b7d750b0b6a2",
         "45518",
         "INSERT",
         "Client",
         "CUST-WGFE8J11VQFE",
         "date_inscription",
         "2024-08-14 00:00:00",
         null
        ],
        [
         "13",
         "a0c9a3c869310ffbf3eb6ac24b9a19be",
         "45518",
         "INSERT",
         "Client",
         "CUST-6CEJYDEA2R2D",
         "date_inscription",
         "2024-08-14 00:00:00",
         null
        ],
        [
         "14",
         "2477db17c02f512ebc4b20f01a7edb55",
         "45518",
         "INSERT",
         "Client",
         "CUST-ED1KQUW44BQX",
         "date_inscription",
         "2024-08-14 00:00:00",
         null
        ],
        [
         "15",
         "6fa61d0ecae0b563fef18d36b2039c8e",
         "45518",
         "INSERT",
         "Client",
         "CUST-5JGUGCXLBCFR",
         "date_inscription",
         "2024-08-14 00:00:00",
         null
        ],
        [
         "16",
         "23e50fd96a8129e057a79ba0d5575c93",
         "45518",
         "INSERT",
         "Client",
         "CUST-X72AW6JN07ZS",
         "date_inscription",
         "2024-08-14 00:00:00",
         null
        ],
        [
         "17",
         "43710c31fab3c974c906d48477bd4a83",
         "45518",
         "INSERT",
         "Client",
         "CUST-Z0WB0J6AYKTM",
         "date_inscription",
         "2024-08-14 00:00:00",
         null
        ],
        [
         "18",
         "af969b090723911e6fd12c8da3b714ad",
         "45518",
         "INSERT",
         "Client",
         "CUST-99B8Q0SVYXJ7",
         "date_inscription",
         "2024-08-14 00:00:00",
         null
        ],
        [
         "19",
         "342281771d02d2096972e38e78e7d6bd",
         "45518",
         "INSERT",
         "Client",
         "CUST-Y9MQQBQ6YSFJ",
         "date_inscription",
         "2024-08-14 00:00:00",
         null
        ],
        [
         "20",
         "08c8b678f8e6f0caz05880ef4ebba10az",
         "45518",
         "UPDATE",
         "Produits",
         "8855635668141",
         "prix",
         "2.54",
         null
        ],
        [
         "21",
         "08c8b678f8e6f0caz05880ef4ebba10az",
         "45518",
         "UPDATE",
         "Produits",
         "2417137162257",
         "prix",
         "2024-08-02 00:00:00",
         null
        ],
        [
         "22",
         "08c8b678f8e6f0caz05880ef4ebba10az",
         "45518",
         "UPDATE",
         "Produits",
         "3190630177348",
         "prix",
         "1.89",
         null
        ],
        [
         "23",
         "08c8b678f8e6f0caz05880ef4ebba10az",
         "45518",
         "UPDATE",
         "Produits",
         "526744548452",
         "prix",
         "2.49",
         null
        ],
        [
         "24",
         "08c8b678f8e6f0caz05880ef4ebba10az",
         "45518",
         "UPDATE",
         "Produits",
         "7411694986259",
         "prix",
         "3.95",
         null
        ],
        [
         "25",
         "08c8b678f8e6f0caz05880ef4ebba10az",
         "45518",
         "UPDATE",
         "Produits",
         "4229189386176",
         "prix",
         "2.72",
         null
        ],
        [
         "26",
         "08c8b678f8e6f0caz05880ef4ebba10az",
         "45518",
         "UPDATE",
         "Produits",
         "4992934879906",
         "prix",
         "3.83",
         null
        ],
        [
         "27",
         "08c8b678f8e6f0caz05880ef4ebba10az",
         "45518",
         "UPDATE",
         "Produits",
         "5703530830641",
         "prix",
         "2024-02-03 00:00:00",
         null
        ],
        [
         "28",
         "08c8b678f8e6f0caz05880ef4ebba10az",
         "45518",
         "UPDATE",
         "Produits",
         "2135686767630",
         "prix",
         "3.52",
         null
        ],
        [
         "29",
         "08c8b678f8e6f0caz05880ef4ebba10az",
         "45518",
         "UPDATE",
         "Produits",
         "7030397691971",
         "prix",
         "2.87",
         null
        ],
        [
         "30",
         "08c8b678f8e6f0caz05880ef4ebba10az",
         "45518",
         "UPDATE",
         "Produits",
         "8746874669490",
         "prix",
         "2.45",
         null
        ],
        [
         "31",
         "08c8b678f8e6f0caz05880ef4ebba10az",
         "45518",
         "UPDATE",
         "Produits",
         "8866891905673",
         "prix",
         "1.47",
         null
        ],
        [
         "32",
         "08c8b678f8e6f0caz05880ef4ebba10az",
         "45518",
         "UPDATE",
         "Produits",
         "9326425019666",
         "prix",
         "1.95",
         null
        ],
        [
         "33",
         "08c8b678f8e6f0caz05880ef4ebba10az",
         "45518",
         "UPDATE",
         "Produits",
         "8822998030978",
         "prix",
         "9.39",
         null
        ],
        [
         "34",
         "08c8b678f8e6f0caz05880ef4ebba10az",
         "45518",
         "UPDATE",
         "Produits",
         "2038477850150",
         "prix",
         "2024-07-04 00:00:00",
         null
        ],
        [
         "35",
         "08c8b678f8e6f0caz05880ef4ebba10az",
         "45518",
         "UPDATE",
         "Produits",
         "8934396548263",
         "prix",
         "2024-11-03 00:00:00",
         null
        ],
        [
         "36",
         "08c8b678f8e6f0caz05880ef4ebba10az",
         "45518",
         "UPDATE",
         "Produits",
         "9387784092713",
         "prix",
         "2024-08-01 00:00:00",
         null
        ],
        [
         "37",
         "08c8b678f8e6f0caz05880ef4ebba10az",
         "45518",
         "UPDATE",
         "Produits",
         "3476864826086",
         "prix",
         "2.63",
         null
        ],
        [
         "38",
         "08c8b678f8e6f0caz05880ef4ebba10az",
         "45518",
         "UPDATE",
         "Produits",
         "8572516724558",
         "prix",
         "7.41",
         null
        ],
        [
         "39",
         "08c8b678f8e6f0caz05880ef4ebba10az",
         "45518",
         "UPDATE",
         "Produits",
         "8355410454356",
         "prix",
         "8.55",
         null
        ],
        [
         "40",
         "08c8b678f8e6f0caz05880ef4ebba10az",
         "45518",
         "UPDATE",
         "Produits",
         "2999630314057",
         "prix",
         "2024-09-06 00:00:00",
         null
        ],
        [
         "41",
         "08c8b678f8e6f0caz05880ef4ebba10az",
         "45518",
         "UPDATE",
         "Produits",
         "4944138464943",
         "prix",
         "2.85",
         null
        ],
        [
         "42",
         "08c8b678f8e6f0caz05880ef4ebba10az",
         "45518",
         "UPDATE",
         "Produits",
         "943801598639",
         "prix",
         "1.97",
         null
        ],
        [
         "43",
         "08c8b678f8e6f0caz05880ef4ebba10az",
         "45518",
         "UPDATE",
         "Produits",
         "3462409569968",
         "prix",
         "2024-08-02 00:00:00",
         null
        ],
        [
         "44",
         "08c8b678f8e6f0caz05880ef4ebba10az",
         "45518",
         "UPDATE",
         "Produits",
         "2726101129498",
         "prix",
         "2.82",
         null
        ],
        [
         "45",
         "08c8b678f8e6f0caz05880ef4ebba10az",
         "45518",
         "UPDATE",
         "Produits",
         "7019262234505",
         "prix",
         "2.17",
         null
        ],
        [
         "46",
         "08c8b678f8e6f0caz05880ef4ebba10az",
         "45518",
         "UPDATE",
         "Produits",
         "4608556074706",
         "prix",
         "1.49",
         null
        ],
        [
         "47",
         "08c8b678f8e6f0caz05880ef4ebba10az",
         "45518",
         "UPDATE",
         "Produits",
         "8670734942001",
         "prix",
         "1.39",
         null
        ],
        [
         "48",
         "08c8b678f8e6f0caz05880ef4ebba10az",
         "45518",
         "UPDATE",
         "Produits",
         "196315457476",
         "prix",
         "2.18",
         null
        ],
        [
         "49",
         "08c8b678f8e6f0caz05880ef4ebba10az",
         "45518",
         "UPDATE",
         "Produits",
         "8151080581314",
         "prix",
         "0.78",
         null
        ]
       ],
       "shape": {
        "columns": 8,
        "rows": 207489
       }
      },
      "text/html": [
       "<div>\n",
       "<style scoped>\n",
       "    .dataframe tbody tr th:only-of-type {\n",
       "        vertical-align: middle;\n",
       "    }\n",
       "\n",
       "    .dataframe tbody tr th {\n",
       "        vertical-align: top;\n",
       "    }\n",
       "\n",
       "    .dataframe thead th {\n",
       "        text-align: right;\n",
       "    }\n",
       "</style>\n",
       "<table border=\"1\" class=\"dataframe\">\n",
       "  <thead>\n",
       "    <tr style=\"text-align: right;\">\n",
       "      <th></th>\n",
       "      <th>id_user</th>\n",
       "      <th>date</th>\n",
       "      <th>action</th>\n",
       "      <th>table_insert</th>\n",
       "      <th>id_ligne</th>\n",
       "      <th>champs</th>\n",
       "      <th>detail</th>\n",
       "      <th>Unnamed: 7</th>\n",
       "    </tr>\n",
       "  </thead>\n",
       "  <tbody>\n",
       "    <tr>\n",
       "      <th>0</th>\n",
       "      <td>0859b70a9ca905a870bfccc5f8440ba1</td>\n",
       "      <td>45518</td>\n",
       "      <td>INSERT</td>\n",
       "      <td>Client</td>\n",
       "      <td>CUST-0P9K9MICI4V3</td>\n",
       "      <td>date_inscription</td>\n",
       "      <td>2024-08-14 00:00:00</td>\n",
       "      <td>NaN</td>\n",
       "    </tr>\n",
       "    <tr>\n",
       "      <th>1</th>\n",
       "      <td>c4f0909120cfde7086a3c1a56e96a015</td>\n",
       "      <td>45518</td>\n",
       "      <td>INSERT</td>\n",
       "      <td>Client</td>\n",
       "      <td>CUST-SZ9IS3Q1LBEP</td>\n",
       "      <td>date_inscription</td>\n",
       "      <td>2024-08-14 00:00:00</td>\n",
       "      <td>NaN</td>\n",
       "    </tr>\n",
       "    <tr>\n",
       "      <th>2</th>\n",
       "      <td>dd595f0f0b3400df2908f0be7723dad4</td>\n",
       "      <td>45518</td>\n",
       "      <td>INSERT</td>\n",
       "      <td>Client</td>\n",
       "      <td>CUST-L99QEXFV9WTS</td>\n",
       "      <td>date_inscription</td>\n",
       "      <td>2024-08-14 00:00:00</td>\n",
       "      <td>NaN</td>\n",
       "    </tr>\n",
       "    <tr>\n",
       "      <th>3</th>\n",
       "      <td>e44eabec860498a79e675200bc8fa455</td>\n",
       "      <td>45518</td>\n",
       "      <td>INSERT</td>\n",
       "      <td>Client</td>\n",
       "      <td>CUST-9SBDRZ728025</td>\n",
       "      <td>date_inscription</td>\n",
       "      <td>2024-08-14 00:00:00</td>\n",
       "      <td>NaN</td>\n",
       "    </tr>\n",
       "    <tr>\n",
       "      <th>4</th>\n",
       "      <td>37c6a856b2e14217855d808fbc8e56a7</td>\n",
       "      <td>45518</td>\n",
       "      <td>INSERT</td>\n",
       "      <td>Client</td>\n",
       "      <td>CUST-3F47X2KHYXQM</td>\n",
       "      <td>date_inscription</td>\n",
       "      <td>2024-08-14 00:00:00</td>\n",
       "      <td>NaN</td>\n",
       "    </tr>\n",
       "    <tr>\n",
       "      <th>...</th>\n",
       "      <td>...</td>\n",
       "      <td>...</td>\n",
       "      <td>...</td>\n",
       "      <td>...</td>\n",
       "      <td>...</td>\n",
       "      <td>...</td>\n",
       "      <td>...</td>\n",
       "      <td>...</td>\n",
       "    </tr>\n",
       "    <tr>\n",
       "      <th>207484</th>\n",
       "      <td>08c8b678f8e6f0caz05880ef4ebba10az</td>\n",
       "      <td>45519</td>\n",
       "      <td>INSERT</td>\n",
       "      <td>Ventes</td>\n",
       "      <td>ZY25L294165VSUG1H6WFSA2I2F3BBZCX8IH</td>\n",
       "      <td>CUSTUMER_ID</td>\n",
       "      <td>CUST-RRTKM7KAJIM8</td>\n",
       "      <td>NaN</td>\n",
       "    </tr>\n",
       "    <tr>\n",
       "      <th>207485</th>\n",
       "      <td>08c8b678f8e6f0caz05880ef4ebba10az</td>\n",
       "      <td>45519</td>\n",
       "      <td>INSERT</td>\n",
       "      <td>Ventes</td>\n",
       "      <td>ZY25L294165VSUG1H6WFSA2I2F3BBZCX8IH</td>\n",
       "      <td>id_employe</td>\n",
       "      <td>37c6a856b2e14217855d808fbc8e56a7</td>\n",
       "      <td>NaN</td>\n",
       "    </tr>\n",
       "    <tr>\n",
       "      <th>207486</th>\n",
       "      <td>08c8b678f8e6f0caz05880ef4ebba10az</td>\n",
       "      <td>45519</td>\n",
       "      <td>INSERT</td>\n",
       "      <td>Ventes</td>\n",
       "      <td>ZY25L294165VSUG1H6WFSA2I2F3BBZCX8IH</td>\n",
       "      <td>EAN</td>\n",
       "      <td>3195185179522</td>\n",
       "      <td>NaN</td>\n",
       "    </tr>\n",
       "    <tr>\n",
       "      <th>207487</th>\n",
       "      <td>08c8b678f8e6f0caz05880ef4ebba10az</td>\n",
       "      <td>45519</td>\n",
       "      <td>INSERT</td>\n",
       "      <td>Ventes</td>\n",
       "      <td>ZY25L294165VSUG1H6WFSA2I2F3BBZCX8IH</td>\n",
       "      <td>Date</td>\n",
       "      <td>45518</td>\n",
       "      <td>NaN</td>\n",
       "    </tr>\n",
       "    <tr>\n",
       "      <th>207488</th>\n",
       "      <td>08c8b678f8e6f0caz05880ef4ebba10az</td>\n",
       "      <td>45519</td>\n",
       "      <td>INSERT</td>\n",
       "      <td>Ventes</td>\n",
       "      <td>ZY25L294165VSUG1H6WFSA2I2F3BBZCX8IH</td>\n",
       "      <td>ID ticket</td>\n",
       "      <td>t_300</td>\n",
       "      <td>NaN</td>\n",
       "    </tr>\n",
       "  </tbody>\n",
       "</table>\n",
       "<p>207489 rows × 8 columns</p>\n",
       "</div>"
      ],
      "text/plain": [
       "                                  id_user   date  action table_insert  \\\n",
       "0        0859b70a9ca905a870bfccc5f8440ba1  45518  INSERT       Client   \n",
       "1        c4f0909120cfde7086a3c1a56e96a015  45518  INSERT       Client   \n",
       "2        dd595f0f0b3400df2908f0be7723dad4  45518  INSERT       Client   \n",
       "3        e44eabec860498a79e675200bc8fa455  45518  INSERT       Client   \n",
       "4        37c6a856b2e14217855d808fbc8e56a7  45518  INSERT       Client   \n",
       "...                                   ...    ...     ...          ...   \n",
       "207484  08c8b678f8e6f0caz05880ef4ebba10az  45519  INSERT       Ventes   \n",
       "207485  08c8b678f8e6f0caz05880ef4ebba10az  45519  INSERT       Ventes   \n",
       "207486  08c8b678f8e6f0caz05880ef4ebba10az  45519  INSERT       Ventes   \n",
       "207487  08c8b678f8e6f0caz05880ef4ebba10az  45519  INSERT       Ventes   \n",
       "207488  08c8b678f8e6f0caz05880ef4ebba10az  45519  INSERT       Ventes   \n",
       "\n",
       "                                   id_ligne            champs  \\\n",
       "0                         CUST-0P9K9MICI4V3  date_inscription   \n",
       "1                         CUST-SZ9IS3Q1LBEP  date_inscription   \n",
       "2                         CUST-L99QEXFV9WTS  date_inscription   \n",
       "3                         CUST-9SBDRZ728025  date_inscription   \n",
       "4                         CUST-3F47X2KHYXQM  date_inscription   \n",
       "...                                     ...               ...   \n",
       "207484  ZY25L294165VSUG1H6WFSA2I2F3BBZCX8IH       CUSTUMER_ID   \n",
       "207485  ZY25L294165VSUG1H6WFSA2I2F3BBZCX8IH        id_employe   \n",
       "207486  ZY25L294165VSUG1H6WFSA2I2F3BBZCX8IH               EAN   \n",
       "207487  ZY25L294165VSUG1H6WFSA2I2F3BBZCX8IH              Date   \n",
       "207488  ZY25L294165VSUG1H6WFSA2I2F3BBZCX8IH         ID ticket   \n",
       "\n",
       "                                  detail  Unnamed: 7  \n",
       "0                    2024-08-14 00:00:00         NaN  \n",
       "1                    2024-08-14 00:00:00         NaN  \n",
       "2                    2024-08-14 00:00:00         NaN  \n",
       "3                    2024-08-14 00:00:00         NaN  \n",
       "4                    2024-08-14 00:00:00         NaN  \n",
       "...                                  ...         ...  \n",
       "207484                 CUST-RRTKM7KAJIM8         NaN  \n",
       "207485  37c6a856b2e14217855d808fbc8e56a7         NaN  \n",
       "207486                     3195185179522         NaN  \n",
       "207487                             45518         NaN  \n",
       "207488                             t_300         NaN  \n",
       "\n",
       "[207489 rows x 8 columns]"
      ]
     },
     "execution_count": 173,
     "metadata": {},
     "output_type": "execute_result"
    }
   ],
   "source": [
    "df_logs"
   ]
  },
  {
   "cell_type": "code",
   "execution_count": 174,
   "id": "67036560",
   "metadata": {},
   "outputs": [
    {
     "name": "stdout",
     "output_type": "stream",
     "text": [
      "<class 'pandas.core.frame.DataFrame'>\n",
      "RangeIndex: 207489 entries, 0 to 207488\n",
      "Data columns (total 8 columns):\n",
      " #   Column        Non-Null Count   Dtype  \n",
      "---  ------        --------------   -----  \n",
      " 0   id_user       207489 non-null  object \n",
      " 1   date          207489 non-null  int64  \n",
      " 2   action        207489 non-null  object \n",
      " 3   table_insert  207489 non-null  object \n",
      " 4   id_ligne      207489 non-null  object \n",
      " 5   champs        207487 non-null  object \n",
      " 6   detail        207487 non-null  object \n",
      " 7   Unnamed: 7    199990 non-null  float64\n",
      "dtypes: float64(1), int64(1), object(6)\n",
      "memory usage: 12.7+ MB\n"
     ]
    }
   ],
   "source": [
    "df_logs.info()"
   ]
  },
  {
   "cell_type": "code",
   "execution_count": 175,
   "id": "e18eff8a",
   "metadata": {},
   "outputs": [
    {
     "name": "stdout",
     "output_type": "stream",
     "text": [
      "id_user : les lignes ont des longueurs différentes\n",
      "date  : toutes les lignes ont le même nombres de caractères. Nombres de caractères [5]\n",
      "action  : toutes les lignes ont le même nombres de caractères. Nombres de caractères [6]\n",
      "table_insert : les lignes ont des longueurs différentes\n",
      "id_ligne : les lignes ont des longueurs différentes\n",
      "champs : les lignes ont des longueurs différentes\n",
      "detail : les lignes ont des longueurs différentes\n",
      "Unnamed: 7  : toutes les lignes ont le même nombres de caractères. Nombres de caractères [3]\n"
     ]
    }
   ],
   "source": [
    "for col in df_logs.columns:\n",
    "    str_egal(df_logs,col)"
   ]
  },
  {
   "cell_type": "code",
   "execution_count": 176,
   "id": "8be820e1",
   "metadata": {},
   "outputs": [
    {
     "name": "stdout",
     "output_type": "stream",
     "text": [
      "id_user: id_user\n",
      "<class 'str'>    207489\n",
      "Name: count, dtype: int64\n",
      "date: date\n",
      "<class 'int'>    207489\n",
      "Name: count, dtype: int64\n",
      "action: action\n",
      "<class 'str'>    207489\n",
      "Name: count, dtype: int64\n",
      "table_insert: table_insert\n",
      "<class 'str'>    207489\n",
      "Name: count, dtype: int64\n",
      "id_ligne: id_ligne\n",
      "<class 'str'>    206914\n",
      "<class 'int'>       575\n",
      "Name: count, dtype: int64\n",
      "champs: champs\n",
      "<class 'str'>      207487\n",
      "<class 'float'>         2\n",
      "Name: count, dtype: int64\n",
      "detail: detail\n",
      "<class 'str'>                  124564\n",
      "<class 'int'>                   82767\n",
      "<class 'datetime.datetime'>       156\n",
      "<class 'float'>                     2\n",
      "Name: count, dtype: int64\n",
      "Unnamed: 7: Unnamed: 7\n",
      "<class 'float'>    207489\n",
      "Name: count, dtype: int64\n"
     ]
    }
   ],
   "source": [
    "for col in df_logs.columns:\n",
    "    print(f\"{col}: {df_logs[col].map(type).value_counts()}\")"
   ]
  },
  {
   "cell_type": "code",
   "execution_count": 177,
   "id": "7f793b75",
   "metadata": {},
   "outputs": [],
   "source": [
    "df_logs['id_ligne'] = df_logs['id_ligne'].astype('str')\n",
    "\n",
    "df_logs['champs'] = df_logs['champs'].astype('str')\n",
    "\n",
    "df_logs['detail'] = df_logs['detail'].astype('str')"
   ]
  },
  {
   "cell_type": "code",
   "execution_count": 178,
   "id": "5bab8546",
   "metadata": {},
   "outputs": [
    {
     "name": "stdout",
     "output_type": "stream",
     "text": [
      "id_user: id_user\n",
      "<class 'str'>    207489\n",
      "Name: count, dtype: int64\n",
      "date: date\n",
      "<class 'int'>    207489\n",
      "Name: count, dtype: int64\n",
      "action: action\n",
      "<class 'str'>    207489\n",
      "Name: count, dtype: int64\n",
      "table_insert: table_insert\n",
      "<class 'str'>    207489\n",
      "Name: count, dtype: int64\n",
      "id_ligne: id_ligne\n",
      "<class 'str'>    207489\n",
      "Name: count, dtype: int64\n",
      "champs: champs\n",
      "<class 'str'>    207489\n",
      "Name: count, dtype: int64\n",
      "detail: detail\n",
      "<class 'str'>    207489\n",
      "Name: count, dtype: int64\n",
      "Unnamed: 7: Unnamed: 7\n",
      "<class 'float'>    207489\n",
      "Name: count, dtype: int64\n"
     ]
    }
   ],
   "source": [
    "for col in df_logs.columns:\n",
    "    print(f\"{col}: {df_logs[col].map(type).value_counts()}\")"
   ]
  },
  {
   "cell_type": "code",
   "execution_count": 179,
   "id": "8260deeb",
   "metadata": {},
   "outputs": [],
   "source": [
    "df_logs = df_logs.drop(columns='Unnamed: 7')"
   ]
  },
  {
   "cell_type": "code",
   "execution_count": 180,
   "id": "c8fc9b96",
   "metadata": {},
   "outputs": [
    {
     "name": "stdout",
     "output_type": "stream",
     "text": [
      "<class 'pandas.core.frame.DataFrame'>\n",
      "RangeIndex: 207489 entries, 0 to 207488\n",
      "Data columns (total 7 columns):\n",
      " #   Column        Non-Null Count   Dtype \n",
      "---  ------        --------------   ----- \n",
      " 0   id_user       207489 non-null  object\n",
      " 1   date          207489 non-null  int64 \n",
      " 2   action        207489 non-null  object\n",
      " 3   table_insert  207489 non-null  object\n",
      " 4   id_ligne      207489 non-null  object\n",
      " 5   champs        207489 non-null  object\n",
      " 6   detail        207489 non-null  object\n",
      "dtypes: int64(1), object(6)\n",
      "memory usage: 11.1+ MB\n"
     ]
    }
   ],
   "source": [
    "df_logs.info()"
   ]
  },
  {
   "cell_type": "code",
   "execution_count": 182,
   "id": "fb8a2acf",
   "metadata": {},
   "outputs": [],
   "source": [
    "df_logs.insert(0, 'id', np.arange(len(df_logs)))"
   ]
  },
  {
   "cell_type": "code",
   "execution_count": 184,
   "id": "b72c03a7",
   "metadata": {},
   "outputs": [],
   "source": [
    "df_logs.to_csv('data/logs.csv', encoding='utf-8', index=False, sep=';')"
   ]
  }
 ],
 "metadata": {
  "kernelspec": {
   "display_name": "venv",
   "language": "python",
   "name": "python3"
  },
  "language_info": {
   "codemirror_mode": {
    "name": "ipython",
    "version": 3
   },
   "file_extension": ".py",
   "mimetype": "text/x-python",
   "name": "python",
   "nbconvert_exporter": "python",
   "pygments_lexer": "ipython3",
   "version": "3.12.3"
  }
 },
 "nbformat": 4,
 "nbformat_minor": 5
}
