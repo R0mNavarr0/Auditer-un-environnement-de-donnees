{
 "cells": [
  {
   "cell_type": "code",
   "execution_count": 72,
   "id": "e3e8cb08",
   "metadata": {},
   "outputs": [],
   "source": [
    "import pandas as pd"
   ]
  },
  {
   "cell_type": "code",
   "execution_count": 73,
   "id": "31608c0d",
   "metadata": {},
   "outputs": [],
   "source": [
    "df_vente = pd.read_excel('data/Base_OLAP.xlsx', sheet_name='Vente Détail')\n",
    "\n",
    "df_produit = pd.read_excel('data/Base_OLAP.xlsx', sheet_name='Produits')\n",
    "\n",
    "df_clients = pd.read_excel('data/Base_OLAP.xlsx', sheet_name='Clients')\n",
    "\n",
    "df_calendrier = pd.read_excel('data/Base_OLAP.xlsx', sheet_name='Calendrier')\n",
    "\n",
    "df_employe = pd.read_excel('data/Base_OLAP.xlsx', sheet_name='Employé')"
   ]
  },
  {
   "cell_type": "code",
   "execution_count": 74,
   "id": "e1d7bc27",
   "metadata": {},
   "outputs": [
    {
     "data": {
      "application/vnd.microsoft.datawrangler.viewer.v0+json": {
       "columns": [
        {
         "name": "index",
         "rawType": "int64",
         "type": "integer"
        },
        {
         "name": "ID_BDD",
         "rawType": "object",
         "type": "string"
        },
        {
         "name": "CUSTOMER_ID",
         "rawType": "object",
         "type": "string"
        },
        {
         "name": "id_employe",
         "rawType": "object",
         "type": "string"
        },
        {
         "name": "EAN",
         "rawType": "int64",
         "type": "integer"
        },
        {
         "name": "Date achat",
         "rawType": "int64",
         "type": "integer"
        },
        {
         "name": "ID ticket",
         "rawType": "object",
         "type": "string"
        }
       ],
       "ref": "ac8ee3ff-df7f-4cf4-a17a-a63abb29f62c",
       "rows": [
        [
         "0",
         "HZDG8U15NNY7SI6HDK8NMFDEK7MOVUX31VY",
         "CUST-G42Z6WE8QLWJ",
         "b413ca065a762e8cf2e86cfea8b9c174",
         "6473630445822",
         "45518",
         "t_2693"
        ],
        [
         "1",
         "1H51BRR800TK9DCIH8M9QCRH3LEAR0JWALJ",
         "CUST-CUA37GP8GABQ",
         "a7ada0770091e838e3dcd45265282820",
         "1857802002765",
         "45518",
         "t_4408"
        ],
        [
         "2",
         "W6VNWK6ZX0D4QZ545ZD5Y0THWQQDBTXABXO",
         "CUST-NHWI0DGNESYI",
         "fa836e3f5faf72d24e079235332169ce",
         "6831886714876",
         "45518",
         "t_3258"
        ],
        [
         "3",
         "58EC3JD1TDZZAVQZAW4AHFOUEKTR61ZLB70",
         "CUST-IYXDMN7Q11O4",
         "6c1c3292c852c6c593b95cc146b00c0e",
         "6916826750723",
         "45518",
         "t_1080"
        ],
        [
         "4",
         "96FE6HA91BRDDF6XRI3O9B83M5PKIXCIXZV",
         "CUST-VR9O54A46EVF",
         "38680e129f45c49322cb12303b7fb655",
         "7930902861368",
         "45518",
         "t_979"
        ]
       ],
       "shape": {
        "columns": 6,
        "rows": 5
       }
      },
      "text/html": [
       "<div>\n",
       "<style scoped>\n",
       "    .dataframe tbody tr th:only-of-type {\n",
       "        vertical-align: middle;\n",
       "    }\n",
       "\n",
       "    .dataframe tbody tr th {\n",
       "        vertical-align: top;\n",
       "    }\n",
       "\n",
       "    .dataframe thead th {\n",
       "        text-align: right;\n",
       "    }\n",
       "</style>\n",
       "<table border=\"1\" class=\"dataframe\">\n",
       "  <thead>\n",
       "    <tr style=\"text-align: right;\">\n",
       "      <th></th>\n",
       "      <th>ID_BDD</th>\n",
       "      <th>CUSTOMER_ID</th>\n",
       "      <th>id_employe</th>\n",
       "      <th>EAN</th>\n",
       "      <th>Date achat</th>\n",
       "      <th>ID ticket</th>\n",
       "    </tr>\n",
       "  </thead>\n",
       "  <tbody>\n",
       "    <tr>\n",
       "      <th>0</th>\n",
       "      <td>HZDG8U15NNY7SI6HDK8NMFDEK7MOVUX31VY</td>\n",
       "      <td>CUST-G42Z6WE8QLWJ</td>\n",
       "      <td>b413ca065a762e8cf2e86cfea8b9c174</td>\n",
       "      <td>6473630445822</td>\n",
       "      <td>45518</td>\n",
       "      <td>t_2693</td>\n",
       "    </tr>\n",
       "    <tr>\n",
       "      <th>1</th>\n",
       "      <td>1H51BRR800TK9DCIH8M9QCRH3LEAR0JWALJ</td>\n",
       "      <td>CUST-CUA37GP8GABQ</td>\n",
       "      <td>a7ada0770091e838e3dcd45265282820</td>\n",
       "      <td>1857802002765</td>\n",
       "      <td>45518</td>\n",
       "      <td>t_4408</td>\n",
       "    </tr>\n",
       "    <tr>\n",
       "      <th>2</th>\n",
       "      <td>W6VNWK6ZX0D4QZ545ZD5Y0THWQQDBTXABXO</td>\n",
       "      <td>CUST-NHWI0DGNESYI</td>\n",
       "      <td>fa836e3f5faf72d24e079235332169ce</td>\n",
       "      <td>6831886714876</td>\n",
       "      <td>45518</td>\n",
       "      <td>t_3258</td>\n",
       "    </tr>\n",
       "    <tr>\n",
       "      <th>3</th>\n",
       "      <td>58EC3JD1TDZZAVQZAW4AHFOUEKTR61ZLB70</td>\n",
       "      <td>CUST-IYXDMN7Q11O4</td>\n",
       "      <td>6c1c3292c852c6c593b95cc146b00c0e</td>\n",
       "      <td>6916826750723</td>\n",
       "      <td>45518</td>\n",
       "      <td>t_1080</td>\n",
       "    </tr>\n",
       "    <tr>\n",
       "      <th>4</th>\n",
       "      <td>96FE6HA91BRDDF6XRI3O9B83M5PKIXCIXZV</td>\n",
       "      <td>CUST-VR9O54A46EVF</td>\n",
       "      <td>38680e129f45c49322cb12303b7fb655</td>\n",
       "      <td>7930902861368</td>\n",
       "      <td>45518</td>\n",
       "      <td>t_979</td>\n",
       "    </tr>\n",
       "  </tbody>\n",
       "</table>\n",
       "</div>"
      ],
      "text/plain": [
       "                                ID_BDD        CUSTOMER_ID  \\\n",
       "0  HZDG8U15NNY7SI6HDK8NMFDEK7MOVUX31VY  CUST-G42Z6WE8QLWJ   \n",
       "1  1H51BRR800TK9DCIH8M9QCRH3LEAR0JWALJ  CUST-CUA37GP8GABQ   \n",
       "2  W6VNWK6ZX0D4QZ545ZD5Y0THWQQDBTXABXO  CUST-NHWI0DGNESYI   \n",
       "3  58EC3JD1TDZZAVQZAW4AHFOUEKTR61ZLB70  CUST-IYXDMN7Q11O4   \n",
       "4  96FE6HA91BRDDF6XRI3O9B83M5PKIXCIXZV  CUST-VR9O54A46EVF   \n",
       "\n",
       "                         id_employe            EAN  Date achat ID ticket  \n",
       "0  b413ca065a762e8cf2e86cfea8b9c174  6473630445822       45518    t_2693  \n",
       "1  a7ada0770091e838e3dcd45265282820  1857802002765       45518    t_4408  \n",
       "2  fa836e3f5faf72d24e079235332169ce  6831886714876       45518    t_3258  \n",
       "3  6c1c3292c852c6c593b95cc146b00c0e  6916826750723       45518    t_1080  \n",
       "4  38680e129f45c49322cb12303b7fb655  7930902861368       45518     t_979  "
      ]
     },
     "execution_count": 74,
     "metadata": {},
     "output_type": "execute_result"
    }
   ],
   "source": [
    "df_vente.head()"
   ]
  },
  {
   "cell_type": "code",
   "execution_count": 75,
   "id": "50a5e128",
   "metadata": {},
   "outputs": [
    {
     "name": "stdout",
     "output_type": "stream",
     "text": [
      "<class 'pandas.core.frame.DataFrame'>\n",
      "RangeIndex: 41377 entries, 0 to 41376\n",
      "Data columns (total 6 columns):\n",
      " #   Column       Non-Null Count  Dtype \n",
      "---  ------       --------------  ----- \n",
      " 0   ID_BDD       41377 non-null  object\n",
      " 1   CUSTOMER_ID  41377 non-null  object\n",
      " 2   id_employe   41377 non-null  object\n",
      " 3   EAN          41377 non-null  int64 \n",
      " 4   Date achat   41377 non-null  int64 \n",
      " 5   ID ticket    41377 non-null  object\n",
      "dtypes: int64(2), object(4)\n",
      "memory usage: 1.9+ MB\n"
     ]
    }
   ],
   "source": [
    "df_vente.info()"
   ]
  },
  {
   "cell_type": "code",
   "execution_count": 76,
   "id": "1656807e",
   "metadata": {},
   "outputs": [],
   "source": [
    "def str_egal(df,col):\n",
    "    if df[col].astype('str').str.len().nunique() == 1:\n",
    "        print(col, ' : toutes les lignes ont le même nombres de caractères. Nombres de caractères', df[col].astype('str').str.len().unique())\n",
    "\n",
    "    else :\n",
    "        print(col, ': les lignes ont des longueurs différentes')"
   ]
  },
  {
   "cell_type": "code",
   "execution_count": 77,
   "id": "929d738a",
   "metadata": {},
   "outputs": [
    {
     "name": "stdout",
     "output_type": "stream",
     "text": [
      "ID_BDD  : toutes les lignes ont le même nombres de caractères. Nombres de caractères [35]\n",
      "CUSTOMER_ID  : toutes les lignes ont le même nombres de caractères. Nombres de caractères [17]\n",
      "id_employe  : toutes les lignes ont le même nombres de caractères. Nombres de caractères [32]\n",
      "EAN : les lignes ont des longueurs différentes\n",
      "Date achat  : toutes les lignes ont le même nombres de caractères. Nombres de caractères [5]\n",
      "ID ticket : les lignes ont des longueurs différentes\n"
     ]
    }
   ],
   "source": [
    "for col in df_vente.columns:\n",
    "    str_egal(df_vente,col)"
   ]
  },
  {
   "cell_type": "code",
   "execution_count": 78,
   "id": "643796c3",
   "metadata": {},
   "outputs": [
    {
     "name": "stdout",
     "output_type": "stream",
     "text": [
      "ID_BDD : nombre de doublons 0\n",
      "CUSTOMER_ID : nombre de doublons 39080\n",
      "id_employe : nombre de doublons 41321\n",
      "EAN : nombre de doublons 25231\n",
      "Date achat : nombre de doublons 41376\n",
      "ID ticket : nombre de doublons 39569\n"
     ]
    }
   ],
   "source": [
    "for col in df_vente.columns:\n",
    "    print(col, ': nombre de doublons', df_vente[col].duplicated().sum())"
   ]
  },
  {
   "cell_type": "code",
   "execution_count": 79,
   "id": "55f3e96e",
   "metadata": {},
   "outputs": [
    {
     "data": {
      "application/vnd.microsoft.datawrangler.viewer.v0+json": {
       "columns": [
        {
         "name": "index",
         "rawType": "int64",
         "type": "integer"
        },
        {
         "name": "EAN",
         "rawType": "int64",
         "type": "integer"
        },
        {
         "name": "categorie",
         "rawType": "object",
         "type": "string"
        },
        {
         "name": "Rayon",
         "rawType": "object",
         "type": "string"
        },
        {
         "name": "Libelle_produit",
         "rawType": "object",
         "type": "string"
        },
        {
         "name": "prix",
         "rawType": "float64",
         "type": "float"
        }
       ],
       "ref": "49ff2a92-4978-4247-baf5-b83a3f07f869",
       "rows": [
        [
         "0",
         "5026767366043",
         "Produits Secs & Conserves",
         "pates",
         "500g penne rigate panzani",
         "1.24"
        ],
        [
         "1",
         "1002603715237",
         "Produits Secs & Conserves",
         "pates",
         "500g spaghetti panzani",
         "0.84"
        ],
        [
         "2",
         "2113941413715",
         "Produits Secs & Conserves",
         "pates",
         "1kg coquillettes panzani",
         "1.73"
        ],
        [
         "3",
         "2597945667827",
         "Produits Secs & Conserves",
         "pates",
         "1kg spaghetti panzani",
         "1.53"
        ],
        [
         "4",
         "8046456922921",
         "Produits Secs & Conserves",
         "pates",
         "panzani farfalle 500g",
         "1.22"
        ]
       ],
       "shape": {
        "columns": 5,
        "rows": 5
       }
      },
      "text/html": [
       "<div>\n",
       "<style scoped>\n",
       "    .dataframe tbody tr th:only-of-type {\n",
       "        vertical-align: middle;\n",
       "    }\n",
       "\n",
       "    .dataframe tbody tr th {\n",
       "        vertical-align: top;\n",
       "    }\n",
       "\n",
       "    .dataframe thead th {\n",
       "        text-align: right;\n",
       "    }\n",
       "</style>\n",
       "<table border=\"1\" class=\"dataframe\">\n",
       "  <thead>\n",
       "    <tr style=\"text-align: right;\">\n",
       "      <th></th>\n",
       "      <th>EAN</th>\n",
       "      <th>categorie</th>\n",
       "      <th>Rayon</th>\n",
       "      <th>Libelle_produit</th>\n",
       "      <th>prix</th>\n",
       "    </tr>\n",
       "  </thead>\n",
       "  <tbody>\n",
       "    <tr>\n",
       "      <th>0</th>\n",
       "      <td>5026767366043</td>\n",
       "      <td>Produits Secs &amp; Conserves</td>\n",
       "      <td>pates</td>\n",
       "      <td>500g penne rigate panzani</td>\n",
       "      <td>1.24</td>\n",
       "    </tr>\n",
       "    <tr>\n",
       "      <th>1</th>\n",
       "      <td>1002603715237</td>\n",
       "      <td>Produits Secs &amp; Conserves</td>\n",
       "      <td>pates</td>\n",
       "      <td>500g spaghetti panzani</td>\n",
       "      <td>0.84</td>\n",
       "    </tr>\n",
       "    <tr>\n",
       "      <th>2</th>\n",
       "      <td>2113941413715</td>\n",
       "      <td>Produits Secs &amp; Conserves</td>\n",
       "      <td>pates</td>\n",
       "      <td>1kg coquillettes panzani</td>\n",
       "      <td>1.73</td>\n",
       "    </tr>\n",
       "    <tr>\n",
       "      <th>3</th>\n",
       "      <td>2597945667827</td>\n",
       "      <td>Produits Secs &amp; Conserves</td>\n",
       "      <td>pates</td>\n",
       "      <td>1kg spaghetti panzani</td>\n",
       "      <td>1.53</td>\n",
       "    </tr>\n",
       "    <tr>\n",
       "      <th>4</th>\n",
       "      <td>8046456922921</td>\n",
       "      <td>Produits Secs &amp; Conserves</td>\n",
       "      <td>pates</td>\n",
       "      <td>panzani farfalle 500g</td>\n",
       "      <td>1.22</td>\n",
       "    </tr>\n",
       "  </tbody>\n",
       "</table>\n",
       "</div>"
      ],
      "text/plain": [
       "             EAN                  categorie  Rayon            Libelle_produit  \\\n",
       "0  5026767366043  Produits Secs & Conserves  pates  500g penne rigate panzani   \n",
       "1  1002603715237  Produits Secs & Conserves  pates     500g spaghetti panzani   \n",
       "2  2113941413715  Produits Secs & Conserves  pates   1kg coquillettes panzani   \n",
       "3  2597945667827  Produits Secs & Conserves  pates      1kg spaghetti panzani   \n",
       "4  8046456922921  Produits Secs & Conserves  pates      panzani farfalle 500g   \n",
       "\n",
       "   prix  \n",
       "0  1.24  \n",
       "1  0.84  \n",
       "2  1.73  \n",
       "3  1.53  \n",
       "4  1.22  "
      ]
     },
     "execution_count": 79,
     "metadata": {},
     "output_type": "execute_result"
    }
   ],
   "source": [
    "df_produit.head()"
   ]
  },
  {
   "cell_type": "code",
   "execution_count": 80,
   "id": "8130175d",
   "metadata": {},
   "outputs": [
    {
     "name": "stdout",
     "output_type": "stream",
     "text": [
      "<class 'pandas.core.frame.DataFrame'>\n",
      "RangeIndex: 18040 entries, 0 to 18039\n",
      "Data columns (total 5 columns):\n",
      " #   Column           Non-Null Count  Dtype  \n",
      "---  ------           --------------  -----  \n",
      " 0   EAN              18040 non-null  int64  \n",
      " 1   categorie        18040 non-null  object \n",
      " 2   Rayon            18040 non-null  object \n",
      " 3   Libelle_produit  18040 non-null  object \n",
      " 4   prix             18040 non-null  float64\n",
      "dtypes: float64(1), int64(1), object(3)\n",
      "memory usage: 704.8+ KB\n"
     ]
    }
   ],
   "source": [
    "df_produit.info()"
   ]
  },
  {
   "cell_type": "code",
   "execution_count": 81,
   "id": "f9e1d415",
   "metadata": {},
   "outputs": [
    {
     "name": "stdout",
     "output_type": "stream",
     "text": [
      "EAN : les lignes ont des longueurs différentes\n",
      "categorie : les lignes ont des longueurs différentes\n",
      "Rayon : les lignes ont des longueurs différentes\n",
      "Libelle_produit : les lignes ont des longueurs différentes\n",
      "prix : les lignes ont des longueurs différentes\n"
     ]
    }
   ],
   "source": [
    "for col in df_produit.columns:\n",
    "    str_egal(df_produit,col)"
   ]
  },
  {
   "cell_type": "code",
   "execution_count": 82,
   "id": "6b544a92",
   "metadata": {},
   "outputs": [
    {
     "data": {
      "application/vnd.microsoft.datawrangler.viewer.v0+json": {
       "columns": [
        {
         "name": "index",
         "rawType": "int64",
         "type": "integer"
        },
        {
         "name": "CUSTUMER_ID",
         "rawType": "object",
         "type": "string"
        },
        {
         "name": "date_inscription",
         "rawType": "datetime64[ns]",
         "type": "datetime"
        }
       ],
       "ref": "e63508a0-db24-416d-96d9-dd7bce9ec6bb",
       "rows": [
        [
         "0",
         "CUST-2KYXXXW1NK7I",
         "2023-07-17 00:00:00"
        ],
        [
         "1",
         "CUST-NR43XRT2PXYG",
         "2023-09-07 00:00:00"
        ],
        [
         "2",
         "CUST-CH58P8PSVIYU",
         "2021-08-24 00:00:00"
        ],
        [
         "3",
         "CUST-CI7JQHW4TIYT",
         "2021-12-22 00:00:00"
        ],
        [
         "4",
         "CUST-3QHP3KL4NPP2",
         "2020-12-20 00:00:00"
        ]
       ],
       "shape": {
        "columns": 2,
        "rows": 5
       }
      },
      "text/html": [
       "<div>\n",
       "<style scoped>\n",
       "    .dataframe tbody tr th:only-of-type {\n",
       "        vertical-align: middle;\n",
       "    }\n",
       "\n",
       "    .dataframe tbody tr th {\n",
       "        vertical-align: top;\n",
       "    }\n",
       "\n",
       "    .dataframe thead th {\n",
       "        text-align: right;\n",
       "    }\n",
       "</style>\n",
       "<table border=\"1\" class=\"dataframe\">\n",
       "  <thead>\n",
       "    <tr style=\"text-align: right;\">\n",
       "      <th></th>\n",
       "      <th>CUSTUMER_ID</th>\n",
       "      <th>date_inscription</th>\n",
       "    </tr>\n",
       "  </thead>\n",
       "  <tbody>\n",
       "    <tr>\n",
       "      <th>0</th>\n",
       "      <td>CUST-2KYXXXW1NK7I</td>\n",
       "      <td>2023-07-17</td>\n",
       "    </tr>\n",
       "    <tr>\n",
       "      <th>1</th>\n",
       "      <td>CUST-NR43XRT2PXYG</td>\n",
       "      <td>2023-09-07</td>\n",
       "    </tr>\n",
       "    <tr>\n",
       "      <th>2</th>\n",
       "      <td>CUST-CH58P8PSVIYU</td>\n",
       "      <td>2021-08-24</td>\n",
       "    </tr>\n",
       "    <tr>\n",
       "      <th>3</th>\n",
       "      <td>CUST-CI7JQHW4TIYT</td>\n",
       "      <td>2021-12-22</td>\n",
       "    </tr>\n",
       "    <tr>\n",
       "      <th>4</th>\n",
       "      <td>CUST-3QHP3KL4NPP2</td>\n",
       "      <td>2020-12-20</td>\n",
       "    </tr>\n",
       "  </tbody>\n",
       "</table>\n",
       "</div>"
      ],
      "text/plain": [
       "         CUSTUMER_ID date_inscription\n",
       "0  CUST-2KYXXXW1NK7I       2023-07-17\n",
       "1  CUST-NR43XRT2PXYG       2023-09-07\n",
       "2  CUST-CH58P8PSVIYU       2021-08-24\n",
       "3  CUST-CI7JQHW4TIYT       2021-12-22\n",
       "4  CUST-3QHP3KL4NPP2       2020-12-20"
      ]
     },
     "execution_count": 82,
     "metadata": {},
     "output_type": "execute_result"
    }
   ],
   "source": [
    "df_clients.head()"
   ]
  },
  {
   "cell_type": "code",
   "execution_count": 83,
   "id": "dfd42f6e",
   "metadata": {},
   "outputs": [
    {
     "name": "stdout",
     "output_type": "stream",
     "text": [
      "CUSTUMER_ID  : toutes les lignes ont le même nombres de caractères. Nombres de caractères [17]\n",
      "date_inscription  : toutes les lignes ont le même nombres de caractères. Nombres de caractères [10]\n"
     ]
    }
   ],
   "source": [
    "for col in df_clients.columns:\n",
    "    str_egal(df_clients,col)"
   ]
  },
  {
   "cell_type": "code",
   "execution_count": 84,
   "id": "492ecfaf",
   "metadata": {},
   "outputs": [
    {
     "data": {
      "application/vnd.microsoft.datawrangler.viewer.v0+json": {
       "columns": [
        {
         "name": "index",
         "rawType": "int64",
         "type": "integer"
        },
        {
         "name": "date",
         "rawType": "int64",
         "type": "integer"
        },
        {
         "name": "annee",
         "rawType": "int64",
         "type": "integer"
        },
        {
         "name": "mois",
         "rawType": "int64",
         "type": "integer"
        },
        {
         "name": "Jour",
         "rawType": "datetime64[ns]",
         "type": "datetime"
        },
        {
         "name": "mois_nom",
         "rawType": "object",
         "type": "string"
        },
        {
         "name": "annee_mois",
         "rawType": "int64",
         "type": "integer"
        },
        {
         "name": "jour_semaine",
         "rawType": "int64",
         "type": "integer"
        },
        {
         "name": "trimestre",
         "rawType": "object",
         "type": "string"
        }
       ],
       "ref": "cbdfcc76-57fe-4c8e-893c-bdeadf1e7ec6",
       "rows": [
        [
         "0",
         "43831",
         "2020",
         "1",
         "1900-01-01 00:00:00",
         "janvier",
         "43831",
         "4",
         "Q1"
        ],
        [
         "1",
         "43832",
         "2020",
         "1",
         "1900-01-02 00:00:00",
         "janvier",
         "43831",
         "5",
         "Q1"
        ],
        [
         "2",
         "43833",
         "2020",
         "1",
         "1900-01-03 00:00:00",
         "janvier",
         "43831",
         "6",
         "Q1"
        ],
        [
         "3",
         "43834",
         "2020",
         "1",
         "1900-01-04 00:00:00",
         "janvier",
         "43831",
         "7",
         "Q1"
        ],
        [
         "4",
         "43835",
         "2020",
         "1",
         "1900-01-05 00:00:00",
         "janvier",
         "43831",
         "1",
         "Q1"
        ]
       ],
       "shape": {
        "columns": 8,
        "rows": 5
       }
      },
      "text/html": [
       "<div>\n",
       "<style scoped>\n",
       "    .dataframe tbody tr th:only-of-type {\n",
       "        vertical-align: middle;\n",
       "    }\n",
       "\n",
       "    .dataframe tbody tr th {\n",
       "        vertical-align: top;\n",
       "    }\n",
       "\n",
       "    .dataframe thead th {\n",
       "        text-align: right;\n",
       "    }\n",
       "</style>\n",
       "<table border=\"1\" class=\"dataframe\">\n",
       "  <thead>\n",
       "    <tr style=\"text-align: right;\">\n",
       "      <th></th>\n",
       "      <th>date</th>\n",
       "      <th>annee</th>\n",
       "      <th>mois</th>\n",
       "      <th>Jour</th>\n",
       "      <th>mois_nom</th>\n",
       "      <th>annee_mois</th>\n",
       "      <th>jour_semaine</th>\n",
       "      <th>trimestre</th>\n",
       "    </tr>\n",
       "  </thead>\n",
       "  <tbody>\n",
       "    <tr>\n",
       "      <th>0</th>\n",
       "      <td>43831</td>\n",
       "      <td>2020</td>\n",
       "      <td>1</td>\n",
       "      <td>1900-01-01</td>\n",
       "      <td>janvier</td>\n",
       "      <td>43831</td>\n",
       "      <td>4</td>\n",
       "      <td>Q1</td>\n",
       "    </tr>\n",
       "    <tr>\n",
       "      <th>1</th>\n",
       "      <td>43832</td>\n",
       "      <td>2020</td>\n",
       "      <td>1</td>\n",
       "      <td>1900-01-02</td>\n",
       "      <td>janvier</td>\n",
       "      <td>43831</td>\n",
       "      <td>5</td>\n",
       "      <td>Q1</td>\n",
       "    </tr>\n",
       "    <tr>\n",
       "      <th>2</th>\n",
       "      <td>43833</td>\n",
       "      <td>2020</td>\n",
       "      <td>1</td>\n",
       "      <td>1900-01-03</td>\n",
       "      <td>janvier</td>\n",
       "      <td>43831</td>\n",
       "      <td>6</td>\n",
       "      <td>Q1</td>\n",
       "    </tr>\n",
       "    <tr>\n",
       "      <th>3</th>\n",
       "      <td>43834</td>\n",
       "      <td>2020</td>\n",
       "      <td>1</td>\n",
       "      <td>1900-01-04</td>\n",
       "      <td>janvier</td>\n",
       "      <td>43831</td>\n",
       "      <td>7</td>\n",
       "      <td>Q1</td>\n",
       "    </tr>\n",
       "    <tr>\n",
       "      <th>4</th>\n",
       "      <td>43835</td>\n",
       "      <td>2020</td>\n",
       "      <td>1</td>\n",
       "      <td>1900-01-05</td>\n",
       "      <td>janvier</td>\n",
       "      <td>43831</td>\n",
       "      <td>1</td>\n",
       "      <td>Q1</td>\n",
       "    </tr>\n",
       "  </tbody>\n",
       "</table>\n",
       "</div>"
      ],
      "text/plain": [
       "    date  annee  mois       Jour mois_nom  annee_mois  jour_semaine trimestre\n",
       "0  43831   2020     1 1900-01-01  janvier       43831             4        Q1\n",
       "1  43832   2020     1 1900-01-02  janvier       43831             5        Q1\n",
       "2  43833   2020     1 1900-01-03  janvier       43831             6        Q1\n",
       "3  43834   2020     1 1900-01-04  janvier       43831             7        Q1\n",
       "4  43835   2020     1 1900-01-05  janvier       43831             1        Q1"
      ]
     },
     "execution_count": 84,
     "metadata": {},
     "output_type": "execute_result"
    }
   ],
   "source": [
    "df_calendrier.head()"
   ]
  },
  {
   "cell_type": "code",
   "execution_count": 85,
   "id": "badc6d05",
   "metadata": {},
   "outputs": [
    {
     "name": "stdout",
     "output_type": "stream",
     "text": [
      "date  : toutes les lignes ont le même nombres de caractères. Nombres de caractères [5]\n",
      "annee  : toutes les lignes ont le même nombres de caractères. Nombres de caractères [4]\n",
      "mois : les lignes ont des longueurs différentes\n",
      "Jour  : toutes les lignes ont le même nombres de caractères. Nombres de caractères [10]\n",
      "mois_nom : les lignes ont des longueurs différentes\n",
      "annee_mois  : toutes les lignes ont le même nombres de caractères. Nombres de caractères [5]\n",
      "jour_semaine  : toutes les lignes ont le même nombres de caractères. Nombres de caractères [1]\n",
      "trimestre  : toutes les lignes ont le même nombres de caractères. Nombres de caractères [2]\n"
     ]
    }
   ],
   "source": [
    "for col in df_calendrier.columns:\n",
    "    str_egal(df_calendrier,col)"
   ]
  },
  {
   "cell_type": "code",
   "execution_count": 86,
   "id": "98918298",
   "metadata": {},
   "outputs": [
    {
     "data": {
      "application/vnd.microsoft.datawrangler.viewer.v0+json": {
       "columns": [
        {
         "name": "index",
         "rawType": "int64",
         "type": "integer"
        },
        {
         "name": "id_employe",
         "rawType": "object",
         "type": "string"
        },
        {
         "name": "employe",
         "rawType": "object",
         "type": "string"
        },
        {
         "name": "prenom",
         "rawType": "object",
         "type": "string"
        },
        {
         "name": "nom",
         "rawType": "object",
         "type": "string"
        },
        {
         "name": "date_debut",
         "rawType": "int64",
         "type": "integer"
        },
        {
         "name": "hash_mdp",
         "rawType": "object",
         "type": "string"
        },
        {
         "name": "mail",
         "rawType": "object",
         "type": "string"
        }
       ],
       "ref": "81341973-7dc1-454d-89ad-1f0ddeaaa547",
       "rows": [
        [
         "0",
         "6fa61d0ecae0b563fef18d36b2039c8e",
         "lmaret",
         "Laure",
         "Maret",
         "43961",
         "0373c45921fbaa7530f34b39e71ba93c",
         "lmaret@supersmartmarket.fr"
        ],
        [
         "1",
         "37c6a856b2e14217855d808fbc8e56a7",
         "cvérany",
         "Christian",
         "Vérany",
         "43894",
         "3e7956190015a301924fb6d7409665a6",
         "cvérany@supersmartmarket.fr"
        ],
        [
         "2",
         "4853b03deab973a1a8e466025bce5b52",
         "sdeslys",
         "Solène",
         "Deslys",
         "44882",
         "45154756438492cd025e3e000781e200",
         "sdeslys@supersmartmarket.fr"
        ],
        [
         "3",
         "e44eabec860498a79e675200bc8fa455",
         "acoquelin",
         "Amand",
         "Coquelin",
         "44380",
         "d0575b3bf61100514cedb05d87a9b689",
         "acoquelin@supersmartmarket.fr"
        ],
        [
         "4",
         "fa836e3f5faf72d24e079235332169ce",
         "egrosjean",
         "Emmanuel",
         "Grosjean",
         "45192",
         "3a366362e4c0016df16dbd2cfb6c7e2a",
         "egrosjean@supersmartmarket.fr"
        ]
       ],
       "shape": {
        "columns": 7,
        "rows": 5
       }
      },
      "text/html": [
       "<div>\n",
       "<style scoped>\n",
       "    .dataframe tbody tr th:only-of-type {\n",
       "        vertical-align: middle;\n",
       "    }\n",
       "\n",
       "    .dataframe tbody tr th {\n",
       "        vertical-align: top;\n",
       "    }\n",
       "\n",
       "    .dataframe thead th {\n",
       "        text-align: right;\n",
       "    }\n",
       "</style>\n",
       "<table border=\"1\" class=\"dataframe\">\n",
       "  <thead>\n",
       "    <tr style=\"text-align: right;\">\n",
       "      <th></th>\n",
       "      <th>id_employe</th>\n",
       "      <th>employe</th>\n",
       "      <th>prenom</th>\n",
       "      <th>nom</th>\n",
       "      <th>date_debut</th>\n",
       "      <th>hash_mdp</th>\n",
       "      <th>mail</th>\n",
       "    </tr>\n",
       "  </thead>\n",
       "  <tbody>\n",
       "    <tr>\n",
       "      <th>0</th>\n",
       "      <td>6fa61d0ecae0b563fef18d36b2039c8e</td>\n",
       "      <td>lmaret</td>\n",
       "      <td>Laure</td>\n",
       "      <td>Maret</td>\n",
       "      <td>43961</td>\n",
       "      <td>0373c45921fbaa7530f34b39e71ba93c</td>\n",
       "      <td>lmaret@supersmartmarket.fr</td>\n",
       "    </tr>\n",
       "    <tr>\n",
       "      <th>1</th>\n",
       "      <td>37c6a856b2e14217855d808fbc8e56a7</td>\n",
       "      <td>cvérany</td>\n",
       "      <td>Christian</td>\n",
       "      <td>Vérany</td>\n",
       "      <td>43894</td>\n",
       "      <td>3e7956190015a301924fb6d7409665a6</td>\n",
       "      <td>cvérany@supersmartmarket.fr</td>\n",
       "    </tr>\n",
       "    <tr>\n",
       "      <th>2</th>\n",
       "      <td>4853b03deab973a1a8e466025bce5b52</td>\n",
       "      <td>sdeslys</td>\n",
       "      <td>Solène</td>\n",
       "      <td>Deslys</td>\n",
       "      <td>44882</td>\n",
       "      <td>45154756438492cd025e3e000781e200</td>\n",
       "      <td>sdeslys@supersmartmarket.fr</td>\n",
       "    </tr>\n",
       "    <tr>\n",
       "      <th>3</th>\n",
       "      <td>e44eabec860498a79e675200bc8fa455</td>\n",
       "      <td>acoquelin</td>\n",
       "      <td>Amand</td>\n",
       "      <td>Coquelin</td>\n",
       "      <td>44380</td>\n",
       "      <td>d0575b3bf61100514cedb05d87a9b689</td>\n",
       "      <td>acoquelin@supersmartmarket.fr</td>\n",
       "    </tr>\n",
       "    <tr>\n",
       "      <th>4</th>\n",
       "      <td>fa836e3f5faf72d24e079235332169ce</td>\n",
       "      <td>egrosjean</td>\n",
       "      <td>Emmanuel</td>\n",
       "      <td>Grosjean</td>\n",
       "      <td>45192</td>\n",
       "      <td>3a366362e4c0016df16dbd2cfb6c7e2a</td>\n",
       "      <td>egrosjean@supersmartmarket.fr</td>\n",
       "    </tr>\n",
       "  </tbody>\n",
       "</table>\n",
       "</div>"
      ],
      "text/plain": [
       "                         id_employe    employe     prenom       nom  \\\n",
       "0  6fa61d0ecae0b563fef18d36b2039c8e     lmaret      Laure     Maret   \n",
       "1  37c6a856b2e14217855d808fbc8e56a7    cvérany  Christian    Vérany   \n",
       "2  4853b03deab973a1a8e466025bce5b52    sdeslys     Solène    Deslys   \n",
       "3  e44eabec860498a79e675200bc8fa455  acoquelin      Amand  Coquelin   \n",
       "4  fa836e3f5faf72d24e079235332169ce  egrosjean   Emmanuel  Grosjean   \n",
       "\n",
       "   date_debut                          hash_mdp                           mail  \n",
       "0       43961  0373c45921fbaa7530f34b39e71ba93c     lmaret@supersmartmarket.fr  \n",
       "1       43894  3e7956190015a301924fb6d7409665a6    cvérany@supersmartmarket.fr  \n",
       "2       44882  45154756438492cd025e3e000781e200    sdeslys@supersmartmarket.fr  \n",
       "3       44380  d0575b3bf61100514cedb05d87a9b689  acoquelin@supersmartmarket.fr  \n",
       "4       45192  3a366362e4c0016df16dbd2cfb6c7e2a  egrosjean@supersmartmarket.fr  "
      ]
     },
     "execution_count": 86,
     "metadata": {},
     "output_type": "execute_result"
    }
   ],
   "source": [
    "df_employe.head()"
   ]
  },
  {
   "cell_type": "code",
   "execution_count": 87,
   "id": "d1d98bfe",
   "metadata": {},
   "outputs": [
    {
     "name": "stdout",
     "output_type": "stream",
     "text": [
      "id_employe  : toutes les lignes ont le même nombres de caractères. Nombres de caractères [32]\n",
      "employe : les lignes ont des longueurs différentes\n",
      "prenom : les lignes ont des longueurs différentes\n",
      "nom : les lignes ont des longueurs différentes\n",
      "date_debut  : toutes les lignes ont le même nombres de caractères. Nombres de caractères [5]\n",
      "hash_mdp  : toutes les lignes ont le même nombres de caractères. Nombres de caractères [32]\n",
      "mail : les lignes ont des longueurs différentes\n"
     ]
    }
   ],
   "source": [
    "for col in df_employe.columns:\n",
    "    str_egal(df_employe,col)"
   ]
  },
  {
   "cell_type": "markdown",
   "id": "89da9145",
   "metadata": {},
   "source": [
    "### Préparation table de données"
   ]
  },
  {
   "cell_type": "markdown",
   "id": "a8e626c3",
   "metadata": {},
   "source": [
    "#### Table vente"
   ]
  },
  {
   "cell_type": "code",
   "execution_count": 88,
   "id": "576e5422",
   "metadata": {},
   "outputs": [
    {
     "data": {
      "application/vnd.microsoft.datawrangler.viewer.v0+json": {
       "columns": [
        {
         "name": "index",
         "rawType": "int64",
         "type": "integer"
        },
        {
         "name": "ID_BDD",
         "rawType": "object",
         "type": "string"
        },
        {
         "name": "CUSTOMER_ID",
         "rawType": "object",
         "type": "string"
        },
        {
         "name": "id_employe",
         "rawType": "object",
         "type": "string"
        },
        {
         "name": "EAN",
         "rawType": "int64",
         "type": "integer"
        },
        {
         "name": "Date achat",
         "rawType": "int64",
         "type": "integer"
        },
        {
         "name": "ID ticket",
         "rawType": "object",
         "type": "string"
        }
       ],
       "ref": "db8c7382-33e1-46ca-af11-3587d12eaa62",
       "rows": [
        [
         "0",
         "HZDG8U15NNY7SI6HDK8NMFDEK7MOVUX31VY",
         "CUST-G42Z6WE8QLWJ",
         "b413ca065a762e8cf2e86cfea8b9c174",
         "6473630445822",
         "45518",
         "t_2693"
        ],
        [
         "1",
         "1H51BRR800TK9DCIH8M9QCRH3LEAR0JWALJ",
         "CUST-CUA37GP8GABQ",
         "a7ada0770091e838e3dcd45265282820",
         "1857802002765",
         "45518",
         "t_4408"
        ],
        [
         "2",
         "W6VNWK6ZX0D4QZ545ZD5Y0THWQQDBTXABXO",
         "CUST-NHWI0DGNESYI",
         "fa836e3f5faf72d24e079235332169ce",
         "6831886714876",
         "45518",
         "t_3258"
        ],
        [
         "3",
         "58EC3JD1TDZZAVQZAW4AHFOUEKTR61ZLB70",
         "CUST-IYXDMN7Q11O4",
         "6c1c3292c852c6c593b95cc146b00c0e",
         "6916826750723",
         "45518",
         "t_1080"
        ],
        [
         "4",
         "96FE6HA91BRDDF6XRI3O9B83M5PKIXCIXZV",
         "CUST-VR9O54A46EVF",
         "38680e129f45c49322cb12303b7fb655",
         "7930902861368",
         "45518",
         "t_979"
        ]
       ],
       "shape": {
        "columns": 6,
        "rows": 5
       }
      },
      "text/html": [
       "<div>\n",
       "<style scoped>\n",
       "    .dataframe tbody tr th:only-of-type {\n",
       "        vertical-align: middle;\n",
       "    }\n",
       "\n",
       "    .dataframe tbody tr th {\n",
       "        vertical-align: top;\n",
       "    }\n",
       "\n",
       "    .dataframe thead th {\n",
       "        text-align: right;\n",
       "    }\n",
       "</style>\n",
       "<table border=\"1\" class=\"dataframe\">\n",
       "  <thead>\n",
       "    <tr style=\"text-align: right;\">\n",
       "      <th></th>\n",
       "      <th>ID_BDD</th>\n",
       "      <th>CUSTOMER_ID</th>\n",
       "      <th>id_employe</th>\n",
       "      <th>EAN</th>\n",
       "      <th>Date achat</th>\n",
       "      <th>ID ticket</th>\n",
       "    </tr>\n",
       "  </thead>\n",
       "  <tbody>\n",
       "    <tr>\n",
       "      <th>0</th>\n",
       "      <td>HZDG8U15NNY7SI6HDK8NMFDEK7MOVUX31VY</td>\n",
       "      <td>CUST-G42Z6WE8QLWJ</td>\n",
       "      <td>b413ca065a762e8cf2e86cfea8b9c174</td>\n",
       "      <td>6473630445822</td>\n",
       "      <td>45518</td>\n",
       "      <td>t_2693</td>\n",
       "    </tr>\n",
       "    <tr>\n",
       "      <th>1</th>\n",
       "      <td>1H51BRR800TK9DCIH8M9QCRH3LEAR0JWALJ</td>\n",
       "      <td>CUST-CUA37GP8GABQ</td>\n",
       "      <td>a7ada0770091e838e3dcd45265282820</td>\n",
       "      <td>1857802002765</td>\n",
       "      <td>45518</td>\n",
       "      <td>t_4408</td>\n",
       "    </tr>\n",
       "    <tr>\n",
       "      <th>2</th>\n",
       "      <td>W6VNWK6ZX0D4QZ545ZD5Y0THWQQDBTXABXO</td>\n",
       "      <td>CUST-NHWI0DGNESYI</td>\n",
       "      <td>fa836e3f5faf72d24e079235332169ce</td>\n",
       "      <td>6831886714876</td>\n",
       "      <td>45518</td>\n",
       "      <td>t_3258</td>\n",
       "    </tr>\n",
       "    <tr>\n",
       "      <th>3</th>\n",
       "      <td>58EC3JD1TDZZAVQZAW4AHFOUEKTR61ZLB70</td>\n",
       "      <td>CUST-IYXDMN7Q11O4</td>\n",
       "      <td>6c1c3292c852c6c593b95cc146b00c0e</td>\n",
       "      <td>6916826750723</td>\n",
       "      <td>45518</td>\n",
       "      <td>t_1080</td>\n",
       "    </tr>\n",
       "    <tr>\n",
       "      <th>4</th>\n",
       "      <td>96FE6HA91BRDDF6XRI3O9B83M5PKIXCIXZV</td>\n",
       "      <td>CUST-VR9O54A46EVF</td>\n",
       "      <td>38680e129f45c49322cb12303b7fb655</td>\n",
       "      <td>7930902861368</td>\n",
       "      <td>45518</td>\n",
       "      <td>t_979</td>\n",
       "    </tr>\n",
       "  </tbody>\n",
       "</table>\n",
       "</div>"
      ],
      "text/plain": [
       "                                ID_BDD        CUSTOMER_ID  \\\n",
       "0  HZDG8U15NNY7SI6HDK8NMFDEK7MOVUX31VY  CUST-G42Z6WE8QLWJ   \n",
       "1  1H51BRR800TK9DCIH8M9QCRH3LEAR0JWALJ  CUST-CUA37GP8GABQ   \n",
       "2  W6VNWK6ZX0D4QZ545ZD5Y0THWQQDBTXABXO  CUST-NHWI0DGNESYI   \n",
       "3  58EC3JD1TDZZAVQZAW4AHFOUEKTR61ZLB70  CUST-IYXDMN7Q11O4   \n",
       "4  96FE6HA91BRDDF6XRI3O9B83M5PKIXCIXZV  CUST-VR9O54A46EVF   \n",
       "\n",
       "                         id_employe            EAN  Date achat ID ticket  \n",
       "0  b413ca065a762e8cf2e86cfea8b9c174  6473630445822       45518    t_2693  \n",
       "1  a7ada0770091e838e3dcd45265282820  1857802002765       45518    t_4408  \n",
       "2  fa836e3f5faf72d24e079235332169ce  6831886714876       45518    t_3258  \n",
       "3  6c1c3292c852c6c593b95cc146b00c0e  6916826750723       45518    t_1080  \n",
       "4  38680e129f45c49322cb12303b7fb655  7930902861368       45518     t_979  "
      ]
     },
     "execution_count": 88,
     "metadata": {},
     "output_type": "execute_result"
    }
   ],
   "source": [
    "df_vente.head()"
   ]
  },
  {
   "cell_type": "code",
   "execution_count": 89,
   "id": "4ec4161e",
   "metadata": {},
   "outputs": [],
   "source": [
    "df_vente = df_vente.rename(columns={'ID_BDD':'id_vente','CUSTOMER_ID':'id_client','EAN':'id_produit','Date achat':'id_date','ID ticket':'id_ticket'})"
   ]
  },
  {
   "cell_type": "code",
   "execution_count": 90,
   "id": "7ef9e129",
   "metadata": {},
   "outputs": [],
   "source": [
    "df_vente.to_csv('data/tbl_vente.csv', encoding='utf-8', index=False)"
   ]
  },
  {
   "cell_type": "markdown",
   "id": "e4a2a6b9",
   "metadata": {},
   "source": [
    "#### Table Produit"
   ]
  },
  {
   "cell_type": "code",
   "execution_count": 91,
   "id": "3663f53c",
   "metadata": {},
   "outputs": [
    {
     "data": {
      "application/vnd.microsoft.datawrangler.viewer.v0+json": {
       "columns": [
        {
         "name": "index",
         "rawType": "int64",
         "type": "integer"
        },
        {
         "name": "EAN",
         "rawType": "int64",
         "type": "integer"
        },
        {
         "name": "categorie",
         "rawType": "object",
         "type": "string"
        },
        {
         "name": "Rayon",
         "rawType": "object",
         "type": "string"
        },
        {
         "name": "Libelle_produit",
         "rawType": "object",
         "type": "string"
        },
        {
         "name": "prix",
         "rawType": "float64",
         "type": "float"
        }
       ],
       "ref": "89d6db2b-d48d-4bef-bab7-052728bdc156",
       "rows": [
        [
         "0",
         "5026767366043",
         "Produits Secs & Conserves",
         "pates",
         "500g penne rigate panzani",
         "1.24"
        ],
        [
         "1",
         "1002603715237",
         "Produits Secs & Conserves",
         "pates",
         "500g spaghetti panzani",
         "0.84"
        ],
        [
         "2",
         "2113941413715",
         "Produits Secs & Conserves",
         "pates",
         "1kg coquillettes panzani",
         "1.73"
        ],
        [
         "3",
         "2597945667827",
         "Produits Secs & Conserves",
         "pates",
         "1kg spaghetti panzani",
         "1.53"
        ],
        [
         "4",
         "8046456922921",
         "Produits Secs & Conserves",
         "pates",
         "panzani farfalle 500g",
         "1.22"
        ]
       ],
       "shape": {
        "columns": 5,
        "rows": 5
       }
      },
      "text/html": [
       "<div>\n",
       "<style scoped>\n",
       "    .dataframe tbody tr th:only-of-type {\n",
       "        vertical-align: middle;\n",
       "    }\n",
       "\n",
       "    .dataframe tbody tr th {\n",
       "        vertical-align: top;\n",
       "    }\n",
       "\n",
       "    .dataframe thead th {\n",
       "        text-align: right;\n",
       "    }\n",
       "</style>\n",
       "<table border=\"1\" class=\"dataframe\">\n",
       "  <thead>\n",
       "    <tr style=\"text-align: right;\">\n",
       "      <th></th>\n",
       "      <th>EAN</th>\n",
       "      <th>categorie</th>\n",
       "      <th>Rayon</th>\n",
       "      <th>Libelle_produit</th>\n",
       "      <th>prix</th>\n",
       "    </tr>\n",
       "  </thead>\n",
       "  <tbody>\n",
       "    <tr>\n",
       "      <th>0</th>\n",
       "      <td>5026767366043</td>\n",
       "      <td>Produits Secs &amp; Conserves</td>\n",
       "      <td>pates</td>\n",
       "      <td>500g penne rigate panzani</td>\n",
       "      <td>1.24</td>\n",
       "    </tr>\n",
       "    <tr>\n",
       "      <th>1</th>\n",
       "      <td>1002603715237</td>\n",
       "      <td>Produits Secs &amp; Conserves</td>\n",
       "      <td>pates</td>\n",
       "      <td>500g spaghetti panzani</td>\n",
       "      <td>0.84</td>\n",
       "    </tr>\n",
       "    <tr>\n",
       "      <th>2</th>\n",
       "      <td>2113941413715</td>\n",
       "      <td>Produits Secs &amp; Conserves</td>\n",
       "      <td>pates</td>\n",
       "      <td>1kg coquillettes panzani</td>\n",
       "      <td>1.73</td>\n",
       "    </tr>\n",
       "    <tr>\n",
       "      <th>3</th>\n",
       "      <td>2597945667827</td>\n",
       "      <td>Produits Secs &amp; Conserves</td>\n",
       "      <td>pates</td>\n",
       "      <td>1kg spaghetti panzani</td>\n",
       "      <td>1.53</td>\n",
       "    </tr>\n",
       "    <tr>\n",
       "      <th>4</th>\n",
       "      <td>8046456922921</td>\n",
       "      <td>Produits Secs &amp; Conserves</td>\n",
       "      <td>pates</td>\n",
       "      <td>panzani farfalle 500g</td>\n",
       "      <td>1.22</td>\n",
       "    </tr>\n",
       "  </tbody>\n",
       "</table>\n",
       "</div>"
      ],
      "text/plain": [
       "             EAN                  categorie  Rayon            Libelle_produit  \\\n",
       "0  5026767366043  Produits Secs & Conserves  pates  500g penne rigate panzani   \n",
       "1  1002603715237  Produits Secs & Conserves  pates     500g spaghetti panzani   \n",
       "2  2113941413715  Produits Secs & Conserves  pates   1kg coquillettes panzani   \n",
       "3  2597945667827  Produits Secs & Conserves  pates      1kg spaghetti panzani   \n",
       "4  8046456922921  Produits Secs & Conserves  pates      panzani farfalle 500g   \n",
       "\n",
       "   prix  \n",
       "0  1.24  \n",
       "1  0.84  \n",
       "2  1.73  \n",
       "3  1.53  \n",
       "4  1.22  "
      ]
     },
     "execution_count": 91,
     "metadata": {},
     "output_type": "execute_result"
    }
   ],
   "source": [
    "df_produit.head()"
   ]
  },
  {
   "cell_type": "code",
   "execution_count": 92,
   "id": "2a8f1af4",
   "metadata": {},
   "outputs": [],
   "source": [
    "df_produit = df_produit.rename(columns={'EAN':'id_produit','Rayon':'rayon','Libelle_produit':'nom_produit','prix':'prix_produit'})"
   ]
  },
  {
   "cell_type": "code",
   "execution_count": 93,
   "id": "5b5c1f1a",
   "metadata": {},
   "outputs": [],
   "source": [
    "df_produit.to_csv('data/tbl_produit.csv', encoding='utf-8', index=False)"
   ]
  },
  {
   "cell_type": "markdown",
   "id": "6796a1b1",
   "metadata": {},
   "source": [
    "#### Table Employe"
   ]
  },
  {
   "cell_type": "code",
   "execution_count": 94,
   "id": "86478fa9",
   "metadata": {},
   "outputs": [
    {
     "data": {
      "application/vnd.microsoft.datawrangler.viewer.v0+json": {
       "columns": [
        {
         "name": "index",
         "rawType": "int64",
         "type": "integer"
        },
        {
         "name": "id_employe",
         "rawType": "object",
         "type": "string"
        },
        {
         "name": "employe",
         "rawType": "object",
         "type": "string"
        },
        {
         "name": "prenom",
         "rawType": "object",
         "type": "string"
        },
        {
         "name": "nom",
         "rawType": "object",
         "type": "string"
        },
        {
         "name": "date_debut",
         "rawType": "int64",
         "type": "integer"
        },
        {
         "name": "hash_mdp",
         "rawType": "object",
         "type": "string"
        },
        {
         "name": "mail",
         "rawType": "object",
         "type": "string"
        }
       ],
       "ref": "43f5b56d-50a6-48a6-86d2-5c7f492bfcc0",
       "rows": [
        [
         "0",
         "6fa61d0ecae0b563fef18d36b2039c8e",
         "lmaret",
         "Laure",
         "Maret",
         "43961",
         "0373c45921fbaa7530f34b39e71ba93c",
         "lmaret@supersmartmarket.fr"
        ],
        [
         "1",
         "37c6a856b2e14217855d808fbc8e56a7",
         "cvérany",
         "Christian",
         "Vérany",
         "43894",
         "3e7956190015a301924fb6d7409665a6",
         "cvérany@supersmartmarket.fr"
        ],
        [
         "2",
         "4853b03deab973a1a8e466025bce5b52",
         "sdeslys",
         "Solène",
         "Deslys",
         "44882",
         "45154756438492cd025e3e000781e200",
         "sdeslys@supersmartmarket.fr"
        ],
        [
         "3",
         "e44eabec860498a79e675200bc8fa455",
         "acoquelin",
         "Amand",
         "Coquelin",
         "44380",
         "d0575b3bf61100514cedb05d87a9b689",
         "acoquelin@supersmartmarket.fr"
        ],
        [
         "4",
         "fa836e3f5faf72d24e079235332169ce",
         "egrosjean",
         "Emmanuel",
         "Grosjean",
         "45192",
         "3a366362e4c0016df16dbd2cfb6c7e2a",
         "egrosjean@supersmartmarket.fr"
        ]
       ],
       "shape": {
        "columns": 7,
        "rows": 5
       }
      },
      "text/html": [
       "<div>\n",
       "<style scoped>\n",
       "    .dataframe tbody tr th:only-of-type {\n",
       "        vertical-align: middle;\n",
       "    }\n",
       "\n",
       "    .dataframe tbody tr th {\n",
       "        vertical-align: top;\n",
       "    }\n",
       "\n",
       "    .dataframe thead th {\n",
       "        text-align: right;\n",
       "    }\n",
       "</style>\n",
       "<table border=\"1\" class=\"dataframe\">\n",
       "  <thead>\n",
       "    <tr style=\"text-align: right;\">\n",
       "      <th></th>\n",
       "      <th>id_employe</th>\n",
       "      <th>employe</th>\n",
       "      <th>prenom</th>\n",
       "      <th>nom</th>\n",
       "      <th>date_debut</th>\n",
       "      <th>hash_mdp</th>\n",
       "      <th>mail</th>\n",
       "    </tr>\n",
       "  </thead>\n",
       "  <tbody>\n",
       "    <tr>\n",
       "      <th>0</th>\n",
       "      <td>6fa61d0ecae0b563fef18d36b2039c8e</td>\n",
       "      <td>lmaret</td>\n",
       "      <td>Laure</td>\n",
       "      <td>Maret</td>\n",
       "      <td>43961</td>\n",
       "      <td>0373c45921fbaa7530f34b39e71ba93c</td>\n",
       "      <td>lmaret@supersmartmarket.fr</td>\n",
       "    </tr>\n",
       "    <tr>\n",
       "      <th>1</th>\n",
       "      <td>37c6a856b2e14217855d808fbc8e56a7</td>\n",
       "      <td>cvérany</td>\n",
       "      <td>Christian</td>\n",
       "      <td>Vérany</td>\n",
       "      <td>43894</td>\n",
       "      <td>3e7956190015a301924fb6d7409665a6</td>\n",
       "      <td>cvérany@supersmartmarket.fr</td>\n",
       "    </tr>\n",
       "    <tr>\n",
       "      <th>2</th>\n",
       "      <td>4853b03deab973a1a8e466025bce5b52</td>\n",
       "      <td>sdeslys</td>\n",
       "      <td>Solène</td>\n",
       "      <td>Deslys</td>\n",
       "      <td>44882</td>\n",
       "      <td>45154756438492cd025e3e000781e200</td>\n",
       "      <td>sdeslys@supersmartmarket.fr</td>\n",
       "    </tr>\n",
       "    <tr>\n",
       "      <th>3</th>\n",
       "      <td>e44eabec860498a79e675200bc8fa455</td>\n",
       "      <td>acoquelin</td>\n",
       "      <td>Amand</td>\n",
       "      <td>Coquelin</td>\n",
       "      <td>44380</td>\n",
       "      <td>d0575b3bf61100514cedb05d87a9b689</td>\n",
       "      <td>acoquelin@supersmartmarket.fr</td>\n",
       "    </tr>\n",
       "    <tr>\n",
       "      <th>4</th>\n",
       "      <td>fa836e3f5faf72d24e079235332169ce</td>\n",
       "      <td>egrosjean</td>\n",
       "      <td>Emmanuel</td>\n",
       "      <td>Grosjean</td>\n",
       "      <td>45192</td>\n",
       "      <td>3a366362e4c0016df16dbd2cfb6c7e2a</td>\n",
       "      <td>egrosjean@supersmartmarket.fr</td>\n",
       "    </tr>\n",
       "  </tbody>\n",
       "</table>\n",
       "</div>"
      ],
      "text/plain": [
       "                         id_employe    employe     prenom       nom  \\\n",
       "0  6fa61d0ecae0b563fef18d36b2039c8e     lmaret      Laure     Maret   \n",
       "1  37c6a856b2e14217855d808fbc8e56a7    cvérany  Christian    Vérany   \n",
       "2  4853b03deab973a1a8e466025bce5b52    sdeslys     Solène    Deslys   \n",
       "3  e44eabec860498a79e675200bc8fa455  acoquelin      Amand  Coquelin   \n",
       "4  fa836e3f5faf72d24e079235332169ce  egrosjean   Emmanuel  Grosjean   \n",
       "\n",
       "   date_debut                          hash_mdp                           mail  \n",
       "0       43961  0373c45921fbaa7530f34b39e71ba93c     lmaret@supersmartmarket.fr  \n",
       "1       43894  3e7956190015a301924fb6d7409665a6    cvérany@supersmartmarket.fr  \n",
       "2       44882  45154756438492cd025e3e000781e200    sdeslys@supersmartmarket.fr  \n",
       "3       44380  d0575b3bf61100514cedb05d87a9b689  acoquelin@supersmartmarket.fr  \n",
       "4       45192  3a366362e4c0016df16dbd2cfb6c7e2a  egrosjean@supersmartmarket.fr  "
      ]
     },
     "execution_count": 94,
     "metadata": {},
     "output_type": "execute_result"
    }
   ],
   "source": [
    "df_employe.head()"
   ]
  },
  {
   "cell_type": "code",
   "execution_count": 95,
   "id": "ab99220f",
   "metadata": {},
   "outputs": [],
   "source": [
    "df_employe = df_employe.rename(columns={'employe':'pseudo_employe','date_debut':'id_date_debut'})"
   ]
  },
  {
   "cell_type": "code",
   "execution_count": 96,
   "id": "77dc7911",
   "metadata": {},
   "outputs": [],
   "source": [
    "df_employe.to_csv('data/tbl_employe.csv', encoding='utf-8', index=False)"
   ]
  },
  {
   "cell_type": "markdown",
   "id": "d90088bd",
   "metadata": {},
   "source": [
    "#### Table Clients"
   ]
  },
  {
   "cell_type": "code",
   "execution_count": 97,
   "id": "f80aca61",
   "metadata": {},
   "outputs": [
    {
     "data": {
      "application/vnd.microsoft.datawrangler.viewer.v0+json": {
       "columns": [
        {
         "name": "index",
         "rawType": "int64",
         "type": "integer"
        },
        {
         "name": "CUSTUMER_ID",
         "rawType": "object",
         "type": "string"
        },
        {
         "name": "date_inscription",
         "rawType": "datetime64[ns]",
         "type": "datetime"
        }
       ],
       "ref": "1d6b95b4-629c-418c-9918-6aeea43c04a0",
       "rows": [
        [
         "0",
         "CUST-2KYXXXW1NK7I",
         "2023-07-17 00:00:00"
        ],
        [
         "1",
         "CUST-NR43XRT2PXYG",
         "2023-09-07 00:00:00"
        ],
        [
         "2",
         "CUST-CH58P8PSVIYU",
         "2021-08-24 00:00:00"
        ],
        [
         "3",
         "CUST-CI7JQHW4TIYT",
         "2021-12-22 00:00:00"
        ],
        [
         "4",
         "CUST-3QHP3KL4NPP2",
         "2020-12-20 00:00:00"
        ]
       ],
       "shape": {
        "columns": 2,
        "rows": 5
       }
      },
      "text/html": [
       "<div>\n",
       "<style scoped>\n",
       "    .dataframe tbody tr th:only-of-type {\n",
       "        vertical-align: middle;\n",
       "    }\n",
       "\n",
       "    .dataframe tbody tr th {\n",
       "        vertical-align: top;\n",
       "    }\n",
       "\n",
       "    .dataframe thead th {\n",
       "        text-align: right;\n",
       "    }\n",
       "</style>\n",
       "<table border=\"1\" class=\"dataframe\">\n",
       "  <thead>\n",
       "    <tr style=\"text-align: right;\">\n",
       "      <th></th>\n",
       "      <th>CUSTUMER_ID</th>\n",
       "      <th>date_inscription</th>\n",
       "    </tr>\n",
       "  </thead>\n",
       "  <tbody>\n",
       "    <tr>\n",
       "      <th>0</th>\n",
       "      <td>CUST-2KYXXXW1NK7I</td>\n",
       "      <td>2023-07-17</td>\n",
       "    </tr>\n",
       "    <tr>\n",
       "      <th>1</th>\n",
       "      <td>CUST-NR43XRT2PXYG</td>\n",
       "      <td>2023-09-07</td>\n",
       "    </tr>\n",
       "    <tr>\n",
       "      <th>2</th>\n",
       "      <td>CUST-CH58P8PSVIYU</td>\n",
       "      <td>2021-08-24</td>\n",
       "    </tr>\n",
       "    <tr>\n",
       "      <th>3</th>\n",
       "      <td>CUST-CI7JQHW4TIYT</td>\n",
       "      <td>2021-12-22</td>\n",
       "    </tr>\n",
       "    <tr>\n",
       "      <th>4</th>\n",
       "      <td>CUST-3QHP3KL4NPP2</td>\n",
       "      <td>2020-12-20</td>\n",
       "    </tr>\n",
       "  </tbody>\n",
       "</table>\n",
       "</div>"
      ],
      "text/plain": [
       "         CUSTUMER_ID date_inscription\n",
       "0  CUST-2KYXXXW1NK7I       2023-07-17\n",
       "1  CUST-NR43XRT2PXYG       2023-09-07\n",
       "2  CUST-CH58P8PSVIYU       2021-08-24\n",
       "3  CUST-CI7JQHW4TIYT       2021-12-22\n",
       "4  CUST-3QHP3KL4NPP2       2020-12-20"
      ]
     },
     "execution_count": 97,
     "metadata": {},
     "output_type": "execute_result"
    }
   ],
   "source": [
    "df_clients.head()"
   ]
  },
  {
   "cell_type": "code",
   "execution_count": 98,
   "id": "0028c52f",
   "metadata": {},
   "outputs": [],
   "source": [
    "df_clients = df_clients.rename(columns={'CUSTOMER_ID':'id_client'})"
   ]
  },
  {
   "cell_type": "code",
   "execution_count": 99,
   "id": "5eff151b",
   "metadata": {},
   "outputs": [],
   "source": [
    "df_clients.to_csv('data/tbl_clients.csv', encoding='utf-8', index=False)"
   ]
  },
  {
   "cell_type": "markdown",
   "id": "ad8834d7",
   "metadata": {},
   "source": [
    "#### Table Calendrier"
   ]
  },
  {
   "cell_type": "code",
   "execution_count": 100,
   "id": "847cf3e8",
   "metadata": {},
   "outputs": [
    {
     "data": {
      "application/vnd.microsoft.datawrangler.viewer.v0+json": {
       "columns": [
        {
         "name": "index",
         "rawType": "int64",
         "type": "integer"
        },
        {
         "name": "date",
         "rawType": "int64",
         "type": "integer"
        },
        {
         "name": "annee",
         "rawType": "int64",
         "type": "integer"
        },
        {
         "name": "mois",
         "rawType": "int64",
         "type": "integer"
        },
        {
         "name": "Jour",
         "rawType": "datetime64[ns]",
         "type": "datetime"
        },
        {
         "name": "mois_nom",
         "rawType": "object",
         "type": "string"
        },
        {
         "name": "annee_mois",
         "rawType": "int64",
         "type": "integer"
        },
        {
         "name": "jour_semaine",
         "rawType": "int64",
         "type": "integer"
        },
        {
         "name": "trimestre",
         "rawType": "object",
         "type": "string"
        }
       ],
       "ref": "ab2b8fe6-7134-4698-9e1b-1d44baea352b",
       "rows": [
        [
         "0",
         "43831",
         "2020",
         "1",
         "1900-01-01 00:00:00",
         "janvier",
         "43831",
         "4",
         "Q1"
        ],
        [
         "1",
         "43832",
         "2020",
         "1",
         "1900-01-02 00:00:00",
         "janvier",
         "43831",
         "5",
         "Q1"
        ],
        [
         "2",
         "43833",
         "2020",
         "1",
         "1900-01-03 00:00:00",
         "janvier",
         "43831",
         "6",
         "Q1"
        ],
        [
         "3",
         "43834",
         "2020",
         "1",
         "1900-01-04 00:00:00",
         "janvier",
         "43831",
         "7",
         "Q1"
        ],
        [
         "4",
         "43835",
         "2020",
         "1",
         "1900-01-05 00:00:00",
         "janvier",
         "43831",
         "1",
         "Q1"
        ]
       ],
       "shape": {
        "columns": 8,
        "rows": 5
       }
      },
      "text/html": [
       "<div>\n",
       "<style scoped>\n",
       "    .dataframe tbody tr th:only-of-type {\n",
       "        vertical-align: middle;\n",
       "    }\n",
       "\n",
       "    .dataframe tbody tr th {\n",
       "        vertical-align: top;\n",
       "    }\n",
       "\n",
       "    .dataframe thead th {\n",
       "        text-align: right;\n",
       "    }\n",
       "</style>\n",
       "<table border=\"1\" class=\"dataframe\">\n",
       "  <thead>\n",
       "    <tr style=\"text-align: right;\">\n",
       "      <th></th>\n",
       "      <th>date</th>\n",
       "      <th>annee</th>\n",
       "      <th>mois</th>\n",
       "      <th>Jour</th>\n",
       "      <th>mois_nom</th>\n",
       "      <th>annee_mois</th>\n",
       "      <th>jour_semaine</th>\n",
       "      <th>trimestre</th>\n",
       "    </tr>\n",
       "  </thead>\n",
       "  <tbody>\n",
       "    <tr>\n",
       "      <th>0</th>\n",
       "      <td>43831</td>\n",
       "      <td>2020</td>\n",
       "      <td>1</td>\n",
       "      <td>1900-01-01</td>\n",
       "      <td>janvier</td>\n",
       "      <td>43831</td>\n",
       "      <td>4</td>\n",
       "      <td>Q1</td>\n",
       "    </tr>\n",
       "    <tr>\n",
       "      <th>1</th>\n",
       "      <td>43832</td>\n",
       "      <td>2020</td>\n",
       "      <td>1</td>\n",
       "      <td>1900-01-02</td>\n",
       "      <td>janvier</td>\n",
       "      <td>43831</td>\n",
       "      <td>5</td>\n",
       "      <td>Q1</td>\n",
       "    </tr>\n",
       "    <tr>\n",
       "      <th>2</th>\n",
       "      <td>43833</td>\n",
       "      <td>2020</td>\n",
       "      <td>1</td>\n",
       "      <td>1900-01-03</td>\n",
       "      <td>janvier</td>\n",
       "      <td>43831</td>\n",
       "      <td>6</td>\n",
       "      <td>Q1</td>\n",
       "    </tr>\n",
       "    <tr>\n",
       "      <th>3</th>\n",
       "      <td>43834</td>\n",
       "      <td>2020</td>\n",
       "      <td>1</td>\n",
       "      <td>1900-01-04</td>\n",
       "      <td>janvier</td>\n",
       "      <td>43831</td>\n",
       "      <td>7</td>\n",
       "      <td>Q1</td>\n",
       "    </tr>\n",
       "    <tr>\n",
       "      <th>4</th>\n",
       "      <td>43835</td>\n",
       "      <td>2020</td>\n",
       "      <td>1</td>\n",
       "      <td>1900-01-05</td>\n",
       "      <td>janvier</td>\n",
       "      <td>43831</td>\n",
       "      <td>1</td>\n",
       "      <td>Q1</td>\n",
       "    </tr>\n",
       "  </tbody>\n",
       "</table>\n",
       "</div>"
      ],
      "text/plain": [
       "    date  annee  mois       Jour mois_nom  annee_mois  jour_semaine trimestre\n",
       "0  43831   2020     1 1900-01-01  janvier       43831             4        Q1\n",
       "1  43832   2020     1 1900-01-02  janvier       43831             5        Q1\n",
       "2  43833   2020     1 1900-01-03  janvier       43831             6        Q1\n",
       "3  43834   2020     1 1900-01-04  janvier       43831             7        Q1\n",
       "4  43835   2020     1 1900-01-05  janvier       43831             1        Q1"
      ]
     },
     "execution_count": 100,
     "metadata": {},
     "output_type": "execute_result"
    }
   ],
   "source": [
    "df_calendrier.head()"
   ]
  },
  {
   "cell_type": "code",
   "execution_count": 101,
   "id": "dc202e8a",
   "metadata": {},
   "outputs": [],
   "source": [
    "df_calendrier = df_calendrier.rename(columns={'date':'id_date','Jour':'jour','mois_nom':'nom_mois','annee_mois':'id_annee_mois','jour_semaine':'nb_jour'})"
   ]
  },
  {
   "cell_type": "code",
   "execution_count": 102,
   "id": "3ccd1dbd",
   "metadata": {},
   "outputs": [],
   "source": [
    "df_calendrier['jour'] = df_calendrier['jour'].dt.day"
   ]
  },
  {
   "cell_type": "code",
   "execution_count": 103,
   "id": "06a13540",
   "metadata": {},
   "outputs": [],
   "source": [
    "df_calendrier.to_csv('data/tbl_calendrier.csv', encoding='utf-8', index=False)"
   ]
  }
 ],
 "metadata": {
  "kernelspec": {
   "display_name": "venv",
   "language": "python",
   "name": "python3"
  },
  "language_info": {
   "codemirror_mode": {
    "name": "ipython",
    "version": 3
   },
   "file_extension": ".py",
   "mimetype": "text/x-python",
   "name": "python",
   "nbconvert_exporter": "python",
   "pygments_lexer": "ipython3",
   "version": "3.12.3"
  }
 },
 "nbformat": 4,
 "nbformat_minor": 5
}
